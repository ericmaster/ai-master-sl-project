{
 "cells": [
  {
   "cell_type": "markdown",
   "id": "d48b03ee",
   "metadata": {},
   "source": [
    "# Supervised Learning Project: Optimización de rendimiento en competencias de ultra trail running"
   ]
  },
  {
   "cell_type": "markdown",
   "id": "15f72292",
   "metadata": {},
   "source": [
    "## Introducción\n",
    "\n",
    "### Motivation y Justificación"
   ]
  },
  {
   "cell_type": "markdown",
   "id": "2ae0e581",
   "metadata": {},
   "source": [
    "#### ¿Qué es el running?\n",
    "\n",
    "El ***running*** es una actividad física que implica desplazar el cuerpo una cierta distancia de manera repetida sobre varios intervalos de tiempo hasta realizar un recorrido. Esto implica la activación de muchos músculos que, dependiendo de la condición física y entrenamiento de la persona y en menor medida de otros factores como el clima y el desnivel, permitirá hacer el recorrido en mayor o menor tiempo. Visto de otra manera permitirá recorrer mayor o menor distancia, en un intervalo de tiempo definido. El *running* se practica por lo general en vias asfaltadas con poco o ningún desnivel por lo que el resultado de la actividad es muy **predecible** basado en la condición física de la persona y entrenamiento.\n",
    "\n",
    "![image](./images/running.png)\n",
    "*Generated with ChatGPT with prompt \"Generate an image of a runner athlete running on a street, viewed from the side with an image of an analog stopwatch above his head, and a ghosted image of the same runner about 10 meters ahead with the stopwatch above his head having advanced a few seconds. Draw a metered line below the runner and it's ghosted image indicating the displaced space between them.\"*"
   ]
  },
  {
   "cell_type": "markdown",
   "id": "16cc6611",
   "metadata": {},
   "source": [
    "#### ¿Qué es el trail running?\n",
    "\n",
    "El ***trail running*** es una actividad física al igual que el *running*, implica desplazar el cuerpo una distancia de manera repetida pero que se diferencia del *running* en que la actividad se realiza usualmente en senderos y caminos de tercer orden. La actividad del **trail running** implica muchas condiciones que cambian durante el transcurso de la actividad (morfología del terreno, desnivel, condiciones climáticas) que dificultan predecir el resultado de la actividad. Estas variables adicionales representan un desafío para una planificación estratégica que maximice el rendimiento del deportista durante el recorrido.\n",
    "\n",
    "![image](./images/trail-running.png)\n",
    "*Generated with ChatGPT with prompt \"Generate an image consisting on 2 images side-by-side. On the left hand side, draw a trail runner viewed from the side power walking uphill on a mountain trail on a steep hill on a sunny day with clear sky. On the right hand side, draw the same trail runner using a rain jacket, running downhill on a rocky trail on a rainy day with cloudy sky.\"*"
   ]
  },
  {
   "cell_type": "markdown",
   "id": "a6dd9f74",
   "metadata": {},
   "source": [
    "#### ¿Qué es el *ultra* trail running?\n",
    "\n",
    "El ***ultra trail running*** es una actividad de *ultra resistencia*, que se entiende como una actividad que tiene una duración de más de 4 horas, pudiendo extenderse a varios días incluso. Algunas fuentes(https://www.dynafit.com/what-is-trail-running) definen a la actividad por su distancia, superando la distancia de una maraton (42.195 km) y que en el caso del *trail running*, es común que realizar recorridos que superen esta distancia supere también las 4 horas pero dependerá del desnivel y de la capacidad del atleta.\n",
    "\n",
    "En el *ultra trail running*, las condiciones climáticas, entre otros factores externos, tienen una mayor probabilidad de cambiar debido a la prolongada duración de la actividad teniendo que por lo general ajustar la estrategia sobre la marcha. A diferencia de deportes de resistencia o de corta duración, los deportes de ultra resistencia presentan un desafío adicional debido a los cambios fisiológicos que sufre el cuerpo del atleta durante la práctica prolongada de la actividad. El gasto energético constante y la pérdida de electrolitos tienden a generar un déficit que tiene que ser compensado con cierta frecuencia por lo que la nutrición, antes y durante la actividad, es importante para obtener un buen resultado. El ritmo o intensidad a la que se lleva a cabo la actividad también tiene que ser moderada para evitar la acumulación execisva de ácido láctico que puede llevar a niveles de fatiga exesivos e ir en contra del desempeño del deportista. "
   ]
  },
  {
   "cell_type": "markdown",
   "id": "e58ed28b",
   "metadata": {},
   "source": [
    "#### ¿Por qué es importante?\n",
    "\n",
    "En la práctica del *ultra trail running* es importante tener una noción del tiempo estimado en que tomará realizar un recorrido, este se estima usualmente con un gran margen de error en base a experiencias anteriores en recorridos similares. Es común tomar este tiempo estimado para realizar una planificación estratégica que, sobre todo a nivel competitivo, permitirá máximizar los resultados, es decir, poder realizar el recorrido en el menor tiempo posible.\n",
    "\n",
    "El *trail running* y sobre todo el *ultra trail running*, son actividades que por lo general se practican en auto-suficiencia, es decir, que es responsabilidad del practicante llevar el equipo y materiales necesarios para llevar a cabo con éxito el recorrido. Esto incluye llevar consigo la cantidad de alimentos y líquidos necesarios para reponer el gasto energético y perdida de electrolítos antes mencionadas. Parte de la estrategia llevar la cantidad justa de alimentos y líquidos entre puntos de control durante la competencia. Llevar más de lo necesario conlleva a cargar más peso y por ende un mayor gasto energético y mayor tiempo en completar la distancia. Por otro lado, llevar menos de lo necesario conlleva el riesgo de quedarse sin alimentos o liquidos durante el recorrido con el peligro de sufrir una descompensación que de prolongarse por mucho tiempo puede tener consecuencias potencialmente graves para el deportista.\n",
    "\n",
    "Tener un tiempo estimado de recorrido tanto total como por segmentos, ayuda al deportista a que tener una noción del ritmo que deberia llevar sobre cada segmento. Por ejemplo, si después de un determinado tiempo de haber iniciado la actividad, el deportista ha recorrido una distancia menor de la estimada sobre ese tiempo se podría decir que esta llevando un ritmo muy comodo y que podría elevar su ritmo de carrera para hacer un menor tiempo. Asi mismo, si despues de un determinado tiempo de haber iniciado el recorrido, el deportista se encuentra por delante de la posición estimada a ese tiempo y dependiendo del recorrido restante podría bajar el ritmo para evitar la acumulación de ácido láctico y el desgaste general."
   ]
  },
  {
   "cell_type": "markdown",
   "id": "2e55a909",
   "metadata": {},
   "source": [
    "## EDA"
   ]
  },
  {
   "cell_type": "markdown",
   "id": "7218f9b4",
   "metadata": {},
   "source": [
    "### Data preprocessing\n",
    "\n",
    "Before, the EDA is carried on, the data needs to be filtered by extracting the training sessions from the `full-data` folder which contains all the training sessions from different disciplines and lengths.\n",
    "\n",
    "We are interested only in sessions that correspond to trail running and have a duration of at least 3 hours. We parse the training sessions in json format and store the metrics of interest in CSV format in the `long-tr-data`"
   ]
  },
  {
   "cell_type": "code",
   "execution_count": 2,
   "id": "dfe8bc97",
   "metadata": {
    "slideshow": {
     "slide_type": "skip"
    }
   },
   "outputs": [
    {
     "name": "stdout",
     "output_type": "stream",
     "text": [
      "Collecting rdflib\n",
      "  Downloading rdflib-7.1.4-py3-none-any.whl (565 kB)\n",
      "\u001b[2K     \u001b[90m━━━━━━━━━━━━━━━━━━━━━━━━━━━━━━━━━━━━━━━━\u001b[0m \u001b[32m565.1/565.1 kB\u001b[0m \u001b[31m6.0 MB/s\u001b[0m eta \u001b[36m0:00:00\u001b[0ma \u001b[36m0:00:01\u001b[0m\n",
      "\u001b[?25hCollecting isodate<1.0.0,>=0.7.2 (from rdflib)\n",
      "  Downloading isodate-0.7.2-py3-none-any.whl (22 kB)\n",
      "Requirement already satisfied: pyparsing<4,>=2.1.0 in /usr/local/lib/python3.10/dist-packages (from rdflib) (3.1.2)\n",
      "Installing collected packages: isodate, rdflib\n",
      "Successfully installed isodate-0.7.2 rdflib-7.1.4\n"
     ]
    }
   ],
   "source": [
    "# Install rdflib to use isodate\n",
    "%pip install rdflib"
   ]
  },
  {
   "cell_type": "code",
   "execution_count": 10,
   "id": "0f01e2dc",
   "metadata": {},
   "outputs": [
    {
     "name": "stderr",
     "output_type": "stream",
     "text": [
      " 27%|██▋       | 401/1468 [00:09<00:24, 44.05it/s]"
     ]
    },
    {
     "name": "stdout",
     "output_type": "stream",
     "text": [
      "Processing file: training-session-2022-11-12-7525658417-bc99fa78-aeee-4ae1-a588-77225766cac3.json\n"
     ]
    },
    {
     "name": "stderr",
     "output_type": "stream",
     "text": [
      " 28%|██▊       | 413/1468 [00:59<30:06,  1.71s/it]"
     ]
    },
    {
     "name": "stdout",
     "output_type": "stream",
     "text": [
      "Saved processed data to: /home/eaguayo/workspace/ml-project/data/long-tr-data/training-session-2022-11-12-7525658417-bc99fa78-aeee-4ae1-a588-77225766cac3.csv\n",
      "Processing time for training-session-2022-11-12-7525658417-bc99fa78-aeee-4ae1-a588-77225766cac3.json: 48.88 seconds\n"
     ]
    },
    {
     "name": "stderr",
     "output_type": "stream",
     "text": [
      " 48%|████▊     | 707/1468 [01:07<00:25, 29.75it/s]"
     ]
    },
    {
     "name": "stdout",
     "output_type": "stream",
     "text": [
      "Processing file: training-session-2023-09-01-7718305337-7038a29e-a3f1-4410-8e83-123b823d73bd.json\n"
     ]
    },
    {
     "name": "stderr",
     "output_type": "stream",
     "text": [
      " 49%|████▉     | 720/1468 [04:11<1:21:49,  6.56s/it]"
     ]
    },
    {
     "name": "stdout",
     "output_type": "stream",
     "text": [
      "Saved processed data to: /home/eaguayo/workspace/ml-project/data/long-tr-data/training-session-2023-09-01-7718305337-7038a29e-a3f1-4410-8e83-123b823d73bd.csv\n",
      "Processing time for training-session-2023-09-01-7718305337-7038a29e-a3f1-4410-8e83-123b823d73bd.json: 183.36 seconds\n"
     ]
    },
    {
     "name": "stderr",
     "output_type": "stream",
     "text": [
      " 57%|█████▋    | 836/1468 [04:14<00:21, 28.83it/s]  "
     ]
    },
    {
     "name": "stdout",
     "output_type": "stream",
     "text": [
      "Processing file: training-session-2021-03-20-5811768059-98acbc6e-9f8c-4f45-861c-6ca4325c1d13.json\n"
     ]
    },
    {
     "name": "stderr",
     "output_type": "stream",
     "text": [
      " 57%|█████▋    | 842/1468 [05:19<32:15,  3.09s/it]"
     ]
    },
    {
     "name": "stdout",
     "output_type": "stream",
     "text": [
      "Saved processed data to: /home/eaguayo/workspace/ml-project/data/long-tr-data/training-session-2021-03-20-5811768059-98acbc6e-9f8c-4f45-861c-6ca4325c1d13.csv\n",
      "Processing time for training-session-2021-03-20-5811768059-98acbc6e-9f8c-4f45-861c-6ca4325c1d13.json: 64.05 seconds\n"
     ]
    },
    {
     "name": "stderr",
     "output_type": "stream",
     "text": [
      " 69%|██████▉   | 1020/1468 [05:24<00:12, 36.45it/s]"
     ]
    },
    {
     "name": "stdout",
     "output_type": "stream",
     "text": [
      "Processing file: training-session-2024-07-13-7919240507-8964418b-b0d0-464f-be54-154f893a8040.json\n"
     ]
    },
    {
     "name": "stderr",
     "output_type": "stream",
     "text": [
      " 70%|███████   | 1029/1468 [06:08<13:02,  1.78s/it]"
     ]
    },
    {
     "name": "stdout",
     "output_type": "stream",
     "text": [
      "Saved processed data to: /home/eaguayo/workspace/ml-project/data/long-tr-data/training-session-2024-07-13-7919240507-8964418b-b0d0-464f-be54-154f893a8040.csv\n",
      "Processing time for training-session-2024-07-13-7919240507-8964418b-b0d0-464f-be54-154f893a8040.json: 43.68 seconds\n"
     ]
    },
    {
     "name": "stderr",
     "output_type": "stream",
     "text": [
      "100%|██████████| 1468/1468 [06:19<00:00,  3.87it/s]"
     ]
    },
    {
     "name": "stdout",
     "output_type": "stream",
     "text": [
      "Skipped 1464 files.\n",
      "Processed 4 files.\n"
     ]
    },
    {
     "name": "stderr",
     "output_type": "stream",
     "text": [
      "\n"
     ]
    }
   ],
   "source": [
    "import traceback\n",
    "import pandas as pd\n",
    "import os\n",
    "import json\n",
    "import isodate\n",
    "from concurrent.futures import ThreadPoolExecutor, as_completed\n",
    "from tqdm import tqdm\n",
    "import time\n",
    "import sys\n",
    "\n",
    "# Create the output directory if it doesn't exist\n",
    "# output_dir = \"./data/long-tr-data\"\n",
    "output_dir = \"/home/eaguayo/workspace/ml-project/data/long-tr-data\"\n",
    "os.makedirs(output_dir, exist_ok=True)\n",
    "\n",
    "# Iterate through all files in the ./full-data folder\n",
    "# input_dir = \"./data/full-data\"\n",
    "input_dir = \"/home/eaguayo/workspace/ml-project/data/full-data\"\n",
    "count = 0\n",
    "skipped = 0\n",
    "\n",
    "def process_file(file_name):\n",
    "    file_path = f\"{input_dir}/{file_name}\"\n",
    "    try:\n",
    "        with open(file_path, \"r\") as f:\n",
    "            data = json.load(f)\n",
    "\n",
    "        exercise = data.get(\"exercises\", [])[0]\n",
    "\n",
    "        # 1. check if the sport corresponds to trail running and if the duration is greater than 3 hours\n",
    "        #    also check if the file has already been processed\n",
    "        sport = exercise.get(\"sport\")\n",
    "        duration_iso = exercise.get(\"duration\")\n",
    "        duration = isodate.parse_duration(duration_iso).total_seconds()\n",
    "\n",
    "        if sport != \"TRAIL_RUNNING\" or duration < 3 * 3600:\n",
    "            return False\n",
    "\n",
    "        # Skip processing if the output file already exists\n",
    "        output_file_name = f\"{output_dir}/{file_name.replace('.json', '.csv')}\"\n",
    "        if os.path.exists(output_file_name):\n",
    "            return False\n",
    "\n",
    "        # 2. Extract available data ---\n",
    "        print(f\"Processing file: {file_name}\")\n",
    "        start_time = time.time()\n",
    "\n",
    "        sample_features = [\n",
    "            \"heartRate\",\n",
    "            \"altitude\",\n",
    "            \"distance\",\n",
    "            \"temperature\",\n",
    "            \"cadence\",\n",
    "            \"speed\",\n",
    "        ]\n",
    "        samples = exercise.get(\"samples\", {})\n",
    "\n",
    "        # Initialize main dataframe with heart rate samples\n",
    "        df = pd.DataFrame(\n",
    "            [\n",
    "                {\n",
    "                    \"timestamp\": pd.to_datetime(sample[\"dateTime\"]),\n",
    "                    \"heartRate\": sample[\"value\"] if \"value\" in sample else None,\n",
    "                }\n",
    "                for sample in samples.get(\"heartRate\", [])\n",
    "            ]\n",
    "        )\n",
    "\n",
    "        # Process and merge other sample types\n",
    "        for sample_feature in sample_features[1:]:  # Skip heartRate (already in df)\n",
    "            sample_data = samples.get(sample_feature, [])\n",
    "            if not sample_data:\n",
    "                continue\n",
    "            temp_df = pd.DataFrame(\n",
    "                [\n",
    "                    {\n",
    "                        \"timestamp\": pd.to_datetime(sample[\"dateTime\"]),\n",
    "                        sample_feature: sample[\"value\"] if \"value\" in sample else None,\n",
    "                    }\n",
    "                    for sample in sample_data\n",
    "                ]\n",
    "            )\n",
    "            if sample_feature in df.columns:\n",
    "                # Within a second is very likely that the same sample is repeated\n",
    "                temp_df[sample_feature] = temp_df[sample_feature].fillna(method='ffill')\n",
    "            df = pd.merge(df, temp_df, on=\"timestamp\", how=\"left\")\n",
    "\n",
    "        # Save the dataframe to a CSV file\n",
    "        df.to_csv(output_file_name, index=False)\n",
    "        end_time = time.time()\n",
    "        print(f\"Saved processed data to: {output_file_name}\")\n",
    "        print(f\"Processing time for {file_name}: {end_time - start_time:.2f} seconds\")\n",
    "        return True\n",
    "    except FileNotFoundError:\n",
    "        print(f\"Error: File not found at path: {file_name}\")\n",
    "    except json.JSONDecodeError:\n",
    "        print(f\"Error: Invalid JSON format in file: {file_name}\")\n",
    "    except Exception as e:\n",
    "        exc_type, exc_value, exc_traceback = sys.exc_info()\n",
    "        print(f\"An unexpected error occurred in file: {file_name}\")\n",
    "        print(f\"With error {exc_type}: {exc_value}\")\n",
    "        print(\"Traceback:\")\n",
    "        traceback.print_exception(exc_type, exc_value, exc_traceback)\n",
    "    return False\n",
    "\n",
    "\n",
    "# Get the list of files\n",
    "files = os.listdir(input_dir)\n",
    "\n",
    "# Process files sequentially\n",
    "for file_name in tqdm(files):\n",
    "    if process_file(file_name):\n",
    "        count += 1\n",
    "    else:\n",
    "        skipped += 1\n",
    "\n",
    "# Process files in parallel with a progress bar\n",
    "# TODO: Does not seem to work well from vscode ipynb with local kernel \n",
    "#   or remote jupyter server runtime. Maybe split to a separate .py script file.\n",
    "# with ThreadPoolExecutor(max_workers=8) as executor:\n",
    "#     futures = {executor.submit(process_file, file_name): file_name for file_name in files}\n",
    "#     for future in tqdm(as_completed(futures), total=len(futures)):\n",
    "#         if future.result():\n",
    "#             count += 1\n",
    "\n",
    "print(f\"Skipped {skipped} files.\")\n",
    "print(f\"Processed {count} files.\")"
   ]
  },
  {
   "cell_type": "markdown",
   "id": "bf2492fe",
   "metadata": {},
   "source": []
  }
 ],
 "metadata": {
  "kernelspec": {
   "display_name": "Python 3",
   "language": "python",
   "name": "python3"
  },
  "language_info": {
   "codemirror_mode": {
    "name": "ipython",
    "version": 3
   },
   "file_extension": ".py",
   "mimetype": "text/x-python",
   "name": "python",
   "nbconvert_exporter": "python",
   "pygments_lexer": "ipython3",
   "version": "3.10.12"
  }
 },
 "nbformat": 4,
 "nbformat_minor": 5
}
