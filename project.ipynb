{
 "cells": [
  {
   "cell_type": "markdown",
   "id": "d48b03ee",
   "metadata": {},
   "source": [
    "# Supervised Learning Project"
   ]
  },
  {
   "cell_type": "markdown",
   "id": "2e55a909",
   "metadata": {},
   "source": [
    "## EDA"
   ]
  },
  {
   "cell_type": "markdown",
   "id": "7218f9b4",
   "metadata": {},
   "source": [
    "### Data preprocessing\n",
    "\n",
    "Before, the EDA is carried on, the data needs to be filtered by extracting the training sessions from the `full-data` folder which contains all the training sessions from different disciplines and lengths.\n",
    "\n",
    "We are interested only in sessions that correspond to trail running and have a duration of at least 3 hours. We parse the training sessions in json format and store the metrics of interest in CSV format in the `long-tr-data`"
   ]
  },
  {
   "cell_type": "code",
   "execution_count": 2,
   "id": "dfe8bc97",
   "metadata": {
    "slideshow": {
     "slide_type": "skip"
    }
   },
   "outputs": [
    {
     "name": "stdout",
     "output_type": "stream",
     "text": [
      "Collecting rdflib\n",
      "  Downloading rdflib-7.1.4-py3-none-any.whl (565 kB)\n",
      "\u001b[2K     \u001b[90m━━━━━━━━━━━━━━━━━━━━━━━━━━━━━━━━━━━━━━━━\u001b[0m \u001b[32m565.1/565.1 kB\u001b[0m \u001b[31m6.0 MB/s\u001b[0m eta \u001b[36m0:00:00\u001b[0ma \u001b[36m0:00:01\u001b[0m\n",
      "\u001b[?25hCollecting isodate<1.0.0,>=0.7.2 (from rdflib)\n",
      "  Downloading isodate-0.7.2-py3-none-any.whl (22 kB)\n",
      "Requirement already satisfied: pyparsing<4,>=2.1.0 in /usr/local/lib/python3.10/dist-packages (from rdflib) (3.1.2)\n",
      "Installing collected packages: isodate, rdflib\n",
      "Successfully installed isodate-0.7.2 rdflib-7.1.4\n"
     ]
    }
   ],
   "source": [
    "# Install rdflib to use isodate\n",
    "%pip install rdflib"
   ]
  },
  {
   "cell_type": "code",
   "execution_count": 1,
   "id": "0f01e2dc",
   "metadata": {},
   "outputs": [
    {
     "name": "stderr",
     "output_type": "stream",
     "text": [
      "  0%|          | 7/1468 [00:00<00:24, 58.91it/s]"
     ]
    },
    {
     "name": "stdout",
     "output_type": "stream",
     "text": [
      "Processing file: training-session-2023-03-18-7606603203-e51b3f6f-5e70-4fbf-b306-060ab13c8302.json\n"
     ]
    },
    {
     "name": "stderr",
     "output_type": "stream",
     "text": [
      "  1%|          | 13/1468 [01:10<2:36:22,  6.45s/it]"
     ]
    },
    {
     "name": "stdout",
     "output_type": "stream",
     "text": [
      "Saved processed data to: /home/eaguayo/workspace/ml-project/data/long-tr-data/training-session-2023-03-18-7606603203-e51b3f6f-5e70-4fbf-b306-060ab13c8302.csv\n",
      "Processing time for training-session-2023-03-18-7606603203-e51b3f6f-5e70-4fbf-b306-060ab13c8302.json: 69.96 seconds\n",
      "Processing file: training-session-2021-05-16-6063407634-d69f9ab5-57fc-450a-be50-8a1d947c9014.json\n"
     ]
    },
    {
     "name": "stderr",
     "output_type": "stream",
     "text": [
      "  1%|▏         | 20/1468 [02:07<2:55:36,  7.28s/it]"
     ]
    },
    {
     "name": "stdout",
     "output_type": "stream",
     "text": [
      "Saved processed data to: /home/eaguayo/workspace/ml-project/data/long-tr-data/training-session-2021-05-16-6063407634-d69f9ab5-57fc-450a-be50-8a1d947c9014.csv\n",
      "Processing time for training-session-2021-05-16-6063407634-d69f9ab5-57fc-450a-be50-8a1d947c9014.json: 57.02 seconds\n",
      "Processing file: training-session-2023-04-29-7632993630-e41b72b8-788d-4c77-a8ea-6fea673970ea.json\n"
     ]
    },
    {
     "name": "stderr",
     "output_type": "stream",
     "text": [
      "  2%|▏         | 29/1468 [03:00<2:26:22,  6.10s/it]"
     ]
    },
    {
     "name": "stdout",
     "output_type": "stream",
     "text": [
      "Saved processed data to: /home/eaguayo/workspace/ml-project/data/long-tr-data/training-session-2023-04-29-7632993630-e41b72b8-788d-4c77-a8ea-6fea673970ea.csv\n",
      "Processing time for training-session-2023-04-29-7632993630-e41b72b8-788d-4c77-a8ea-6fea673970ea.json: 52.95 seconds\n",
      "Processing file: training-session-2024-07-06-7914990820-4ad5900e-6602-48d0-a68f-fc41178bfe43.json\n"
     ]
    },
    {
     "name": "stderr",
     "output_type": "stream",
     "text": [
      "  2%|▏         | 34/1468 [03:11<1:55:28,  4.83s/it]"
     ]
    },
    {
     "name": "stdout",
     "output_type": "stream",
     "text": [
      "An unexpected error occurred in file: training-session-2024-07-06-7914990820-4ad5900e-6602-48d0-a68f-fc41178bfe43.json with error 'value'\n",
      "Processing file: training-session-2024-07-20-7923977820-38ab61c5-0716-4bfb-a0be-1c0e4b550b8a.json\n"
     ]
    },
    {
     "name": "stderr",
     "output_type": "stream",
     "text": [
      "  3%|▎         | 37/1468 [03:54<2:34:58,  6.50s/it]"
     ]
    },
    {
     "name": "stdout",
     "output_type": "stream",
     "text": [
      "Saved processed data to: /home/eaguayo/workspace/ml-project/data/long-tr-data/training-session-2024-07-20-7923977820-38ab61c5-0716-4bfb-a0be-1c0e4b550b8a.csv\n",
      "Processing time for training-session-2024-07-20-7923977820-38ab61c5-0716-4bfb-a0be-1c0e4b550b8a.json: 42.58 seconds\n",
      "Processing file: training-session-2021-09-11-6510697629-1bfe3366-c3f7-4af0-97b3-46c677a2c060.json\n"
     ]
    },
    {
     "name": "stderr",
     "output_type": "stream",
     "text": [
      "  3%|▎         | 46/1468 [04:36<1:51:47,  4.72s/it]"
     ]
    },
    {
     "name": "stdout",
     "output_type": "stream",
     "text": [
      "Saved processed data to: /home/eaguayo/workspace/ml-project/data/long-tr-data/training-session-2021-09-11-6510697629-1bfe3366-c3f7-4af0-97b3-46c677a2c060.csv\n",
      "Processing time for training-session-2021-09-11-6510697629-1bfe3366-c3f7-4af0-97b3-46c677a2c060.json: 41.63 seconds\n",
      "Processing file: training-session-2021-07-10-6256467174-827980f8-d8fc-4c10-b886-507a2bac05b4.json\n"
     ]
    },
    {
     "name": "stderr",
     "output_type": "stream",
     "text": [
      "  4%|▎         | 53/1468 [05:54<2:36:15,  6.63s/it]"
     ]
    },
    {
     "name": "stdout",
     "output_type": "stream",
     "text": [
      "Saved processed data to: /home/eaguayo/workspace/ml-project/data/long-tr-data/training-session-2021-07-10-6256467174-827980f8-d8fc-4c10-b886-507a2bac05b4.csv\n",
      "Processing time for training-session-2021-07-10-6256467174-827980f8-d8fc-4c10-b886-507a2bac05b4.json: 77.70 seconds\n",
      "Processing file: training-session-2021-06-20-6180471154-a1051946-edf3-4ea3-89ad-dd0588d9b573.json\n"
     ]
    },
    {
     "name": "stderr",
     "output_type": "stream",
     "text": [
      "  4%|▍         | 62/1468 [06:35<2:10:05,  5.55s/it]"
     ]
    },
    {
     "name": "stdout",
     "output_type": "stream",
     "text": [
      "Saved processed data to: /home/eaguayo/workspace/ml-project/data/long-tr-data/training-session-2021-06-20-6180471154-a1051946-edf3-4ea3-89ad-dd0588d9b573.csv\n",
      "Processing time for training-session-2021-06-20-6180471154-a1051946-edf3-4ea3-89ad-dd0588d9b573.json: 40.14 seconds\n",
      "Processing file: training-session-2022-12-17-7552167482-eb1bc1f5-2ed0-42c5-9726-7d137ed20bbf.json\n"
     ]
    },
    {
     "name": "stderr",
     "output_type": "stream",
     "text": [
      "  4%|▍         | 65/1468 [07:20<2:53:18,  7.41s/it]"
     ]
    },
    {
     "name": "stdout",
     "output_type": "stream",
     "text": [
      "Saved processed data to: /home/eaguayo/workspace/ml-project/data/long-tr-data/training-session-2022-12-17-7552167482-eb1bc1f5-2ed0-42c5-9726-7d137ed20bbf.csv\n",
      "Processing time for training-session-2022-12-17-7552167482-eb1bc1f5-2ed0-42c5-9726-7d137ed20bbf.json: 45.43 seconds\n",
      "Processing file: training-session-2023-04-08-7620735991-cd353c82-5746-4970-8fb1-adc7ccecbcf3.json\n"
     ]
    },
    {
     "name": "stderr",
     "output_type": "stream",
     "text": [
      "  5%|▍         | 69/1468 [07:50<2:39:25,  6.84s/it]"
     ]
    },
    {
     "name": "stdout",
     "output_type": "stream",
     "text": [
      "Saved processed data to: /home/eaguayo/workspace/ml-project/data/long-tr-data/training-session-2023-04-08-7620735991-cd353c82-5746-4970-8fb1-adc7ccecbcf3.csv\n",
      "Processing time for training-session-2023-04-08-7620735991-cd353c82-5746-4970-8fb1-adc7ccecbcf3.json: 29.64 seconds\n"
     ]
    },
    {
     "name": "stderr",
     "output_type": "stream",
     "text": [
      "  5%|▌         | 78/1468 [07:50<1:14:24,  3.21s/it]"
     ]
    },
    {
     "name": "stdout",
     "output_type": "stream",
     "text": [
      "Processing file: training-session-2023-09-16-7732317675-e6ba8a6d-a4e8-4037-ad52-e4395b90f9e2.json\n"
     ]
    },
    {
     "name": "stderr",
     "output_type": "stream",
     "text": [
      "  5%|▌         | 80/1468 [09:08<3:14:27,  8.41s/it]"
     ]
    },
    {
     "name": "stdout",
     "output_type": "stream",
     "text": [
      "Saved processed data to: /home/eaguayo/workspace/ml-project/data/long-tr-data/training-session-2023-09-16-7732317675-e6ba8a6d-a4e8-4037-ad52-e4395b90f9e2.csv\n",
      "Processing time for training-session-2023-09-16-7732317675-e6ba8a6d-a4e8-4037-ad52-e4395b90f9e2.json: 78.19 seconds\n",
      "Processing file: training-session-2022-11-11-7525661066-bdfa169b-db1a-42fb-a626-4977ea4ef9b7.json\n"
     ]
    },
    {
     "name": "stderr",
     "output_type": "stream",
     "text": [
      "  6%|▌         | 87/1468 [12:08<5:25:51, 14.16s/it]"
     ]
    },
    {
     "name": "stdout",
     "output_type": "stream",
     "text": [
      "Saved processed data to: /home/eaguayo/workspace/ml-project/data/long-tr-data/training-session-2022-11-11-7525661066-bdfa169b-db1a-42fb-a626-4977ea4ef9b7.csv\n",
      "Processing time for training-session-2022-11-11-7525661066-bdfa169b-db1a-42fb-a626-4977ea4ef9b7.json: 178.43 seconds\n"
     ]
    },
    {
     "name": "stderr",
     "output_type": "stream",
     "text": [
      "  6%|▋         | 92/1468 [12:08<3:29:04,  9.12s/it]"
     ]
    },
    {
     "name": "stdout",
     "output_type": "stream",
     "text": [
      "Processing file: training-session-2023-11-18-7768760070-0431936f-9658-4a13-908b-45a07a175b0f.json\n"
     ]
    },
    {
     "name": "stderr",
     "output_type": "stream",
     "text": [
      "  7%|▋         | 109/1468 [12:36<1:32:16,  4.07s/it]"
     ]
    },
    {
     "name": "stdout",
     "output_type": "stream",
     "text": [
      "Saved processed data to: /home/eaguayo/workspace/ml-project/data/long-tr-data/training-session-2023-11-18-7768760070-0431936f-9658-4a13-908b-45a07a175b0f.csv\n",
      "Processing time for training-session-2023-11-18-7768760070-0431936f-9658-4a13-908b-45a07a175b0f.json: 28.18 seconds\n",
      "Processing file: training-session-2024-06-15-7901192938-dbec766c-3607-4f5f-b977-06aa322988b1.json\n"
     ]
    },
    {
     "name": "stderr",
     "output_type": "stream",
     "text": [
      "  8%|▊         | 121/1468 [14:04<1:49:07,  4.86s/it]"
     ]
    },
    {
     "name": "stdout",
     "output_type": "stream",
     "text": [
      "Saved processed data to: /home/eaguayo/workspace/ml-project/data/long-tr-data/training-session-2024-06-15-7901192938-dbec766c-3607-4f5f-b977-06aa322988b1.csv\n",
      "Processing time for training-session-2024-06-15-7901192938-dbec766c-3607-4f5f-b977-06aa322988b1.json: 87.85 seconds\n",
      "Processing file: training-session-2023-11-25-7770959471-fa126f99-dfb0-4cf9-9777-8d2846702c80.json\n"
     ]
    },
    {
     "name": "stderr",
     "output_type": "stream",
     "text": [
      "  9%|▊         | 128/1468 [14:34<1:36:48,  4.33s/it]"
     ]
    },
    {
     "name": "stdout",
     "output_type": "stream",
     "text": [
      "Saved processed data to: /home/eaguayo/workspace/ml-project/data/long-tr-data/training-session-2023-11-25-7770959471-fa126f99-dfb0-4cf9-9777-8d2846702c80.csv\n",
      "Processing time for training-session-2023-11-25-7770959471-fa126f99-dfb0-4cf9-9777-8d2846702c80.json: 29.73 seconds\n",
      "Processing file: training-session-2024-02-13-7818251133-0c07f2a1-47ea-4d7a-88c5-affc07c378c4.json\n"
     ]
    },
    {
     "name": "stderr",
     "output_type": "stream",
     "text": [
      "  9%|▉         | 138/1468 [15:09<1:16:23,  3.45s/it]"
     ]
    },
    {
     "name": "stdout",
     "output_type": "stream",
     "text": [
      "Saved processed data to: /home/eaguayo/workspace/ml-project/data/long-tr-data/training-session-2024-02-13-7818251133-0c07f2a1-47ea-4d7a-88c5-affc07c378c4.csv\n",
      "Processing time for training-session-2024-02-13-7818251133-0c07f2a1-47ea-4d7a-88c5-affc07c378c4.json: 34.32 seconds\n",
      "Processing file: training-session-2024-02-11-7817578157-db1a61bf-6bbb-416f-acd5-4473e72a3f22.json\n"
     ]
    },
    {
     "name": "stderr",
     "output_type": "stream",
     "text": [
      " 10%|█         | 151/1468 [15:46<1:01:52,  2.82s/it]"
     ]
    },
    {
     "name": "stdout",
     "output_type": "stream",
     "text": [
      "Saved processed data to: /home/eaguayo/workspace/ml-project/data/long-tr-data/training-session-2024-02-11-7817578157-db1a61bf-6bbb-416f-acd5-4473e72a3f22.csv\n",
      "Processing time for training-session-2024-02-11-7817578157-db1a61bf-6bbb-416f-acd5-4473e72a3f22.json: 37.23 seconds\n"
     ]
    },
    {
     "name": "stderr",
     "output_type": "stream",
     "text": [
      " 12%|█▏        | 173/1468 [15:47<18:22,  1.17it/s]  "
     ]
    },
    {
     "name": "stdout",
     "output_type": "stream",
     "text": [
      "Processing file: training-session-2021-07-31-6330675234-a8a02e73-8a33-4a6a-89f5-e249737e1d29.json\n"
     ]
    },
    {
     "name": "stderr",
     "output_type": "stream",
     "text": [
      " 12%|█▏        | 181/1468 [16:34<50:21,  2.35s/it]  "
     ]
    },
    {
     "name": "stdout",
     "output_type": "stream",
     "text": [
      "Saved processed data to: /home/eaguayo/workspace/ml-project/data/long-tr-data/training-session-2021-07-31-6330675234-a8a02e73-8a33-4a6a-89f5-e249737e1d29.csv\n",
      "Processing time for training-session-2021-07-31-6330675234-a8a02e73-8a33-4a6a-89f5-e249737e1d29.json: 47.12 seconds\n",
      "Processing file: training-session-2023-06-25-7670927095-6e04530c-f4c4-45a4-8067-f2698d568e44.json\n"
     ]
    },
    {
     "name": "stderr",
     "output_type": "stream",
     "text": [
      " 13%|█▎        | 185/1468 [17:16<1:27:53,  4.11s/it]"
     ]
    },
    {
     "name": "stdout",
     "output_type": "stream",
     "text": [
      "Saved processed data to: /home/eaguayo/workspace/ml-project/data/long-tr-data/training-session-2023-06-25-7670927095-6e04530c-f4c4-45a4-8067-f2698d568e44.csv\n",
      "Processing time for training-session-2023-06-25-7670927095-6e04530c-f4c4-45a4-8067-f2698d568e44.json: 42.10 seconds\n",
      "Processing file: training-session-2021-08-14-6382906009-9575cb4d-ad1a-4274-b256-636cff96bed8.json\n"
     ]
    },
    {
     "name": "stderr",
     "output_type": "stream",
     "text": [
      " 13%|█▎        | 193/1468 [17:47<1:15:01,  3.53s/it]"
     ]
    },
    {
     "name": "stdout",
     "output_type": "stream",
     "text": [
      "Saved processed data to: /home/eaguayo/workspace/ml-project/data/long-tr-data/training-session-2021-08-14-6382906009-9575cb4d-ad1a-4274-b256-636cff96bed8.csv\n",
      "Processing time for training-session-2021-08-14-6382906009-9575cb4d-ad1a-4274-b256-636cff96bed8.json: 30.56 seconds\n"
     ]
    },
    {
     "name": "stderr",
     "output_type": "stream",
     "text": [
      " 14%|█▎        | 200/1468 [17:47<42:29,  2.01s/it]  "
     ]
    },
    {
     "name": "stdout",
     "output_type": "stream",
     "text": [
      "Processing file: training-session-2023-04-01-7617235798-5e06759b-fadb-4998-902a-f617b8e5fd58.json\n"
     ]
    },
    {
     "name": "stderr",
     "output_type": "stream",
     "text": [
      " 14%|█▍        | 202/1468 [18:34<1:50:41,  5.25s/it]"
     ]
    },
    {
     "name": "stdout",
     "output_type": "stream",
     "text": [
      "Saved processed data to: /home/eaguayo/workspace/ml-project/data/long-tr-data/training-session-2023-04-01-7617235798-5e06759b-fadb-4998-902a-f617b8e5fd58.csv\n",
      "Processing time for training-session-2023-04-01-7617235798-5e06759b-fadb-4998-902a-f617b8e5fd58.json: 47.04 seconds\n",
      "Processing file: training-session-2022-01-02-6870048274-cb0318a2-329f-45c0-b41d-a45eb3c76eae.json\n"
     ]
    },
    {
     "name": "stderr",
     "output_type": "stream",
     "text": [
      " 14%|█▍        | 207/1468 [19:20<2:18:26,  6.59s/it]"
     ]
    },
    {
     "name": "stdout",
     "output_type": "stream",
     "text": [
      "Saved processed data to: /home/eaguayo/workspace/ml-project/data/long-tr-data/training-session-2022-01-02-6870048274-cb0318a2-329f-45c0-b41d-a45eb3c76eae.csv\n",
      "Processing time for training-session-2022-01-02-6870048274-cb0318a2-329f-45c0-b41d-a45eb3c76eae.json: 45.26 seconds\n",
      "Processing file: training-session-2022-09-25-7505259880-c6e571d4-0d27-459a-996a-bb657781848b.json\n"
     ]
    },
    {
     "name": "stderr",
     "output_type": "stream",
     "text": [
      " 14%|█▍        | 210/1468 [20:16<3:16:02,  9.35s/it]"
     ]
    },
    {
     "name": "stdout",
     "output_type": "stream",
     "text": [
      "Saved processed data to: /home/eaguayo/workspace/ml-project/data/long-tr-data/training-session-2022-09-25-7505259880-c6e571d4-0d27-459a-996a-bb657781848b.csv\n",
      "Processing time for training-session-2022-09-25-7505259880-c6e571d4-0d27-459a-996a-bb657781848b.json: 55.59 seconds\n",
      "Processing file: training-session-2023-10-28-7753568055-350fa441-0cea-4652-9d6f-ab600f611c84.json\n"
     ]
    },
    {
     "name": "stderr",
     "output_type": "stream",
     "text": [
      " 15%|█▍        | 215/1468 [20:49<2:55:47,  8.42s/it]"
     ]
    },
    {
     "name": "stdout",
     "output_type": "stream",
     "text": [
      "Saved processed data to: /home/eaguayo/workspace/ml-project/data/long-tr-data/training-session-2023-10-28-7753568055-350fa441-0cea-4652-9d6f-ab600f611c84.csv\n",
      "Processing time for training-session-2023-10-28-7753568055-350fa441-0cea-4652-9d6f-ab600f611c84.json: 33.47 seconds\n",
      "Processing file: training-session-2025-04-20-8097526312-db510516-82ad-4e51-9f54-c1f8f4fa9204.json\n"
     ]
    },
    {
     "name": "stderr",
     "output_type": "stream",
     "text": [
      " 15%|█▌        | 226/1468 [21:35<1:46:21,  5.14s/it]"
     ]
    },
    {
     "name": "stdout",
     "output_type": "stream",
     "text": [
      "Saved processed data to: /home/eaguayo/workspace/ml-project/data/long-tr-data/training-session-2025-04-20-8097526312-db510516-82ad-4e51-9f54-c1f8f4fa9204.csv\n",
      "Processing time for training-session-2025-04-20-8097526312-db510516-82ad-4e51-9f54-c1f8f4fa9204.json: 45.86 seconds\n",
      "Processing file: training-session-2024-12-07-8013382410-7f4a69f9-21eb-4202-8c19-e86eddea404b.json\n"
     ]
    },
    {
     "name": "stderr",
     "output_type": "stream",
     "text": [
      " 16%|█▌        | 234/1468 [22:35<2:04:35,  6.06s/it]"
     ]
    },
    {
     "name": "stdout",
     "output_type": "stream",
     "text": [
      "Saved processed data to: /home/eaguayo/workspace/ml-project/data/long-tr-data/training-session-2024-12-07-8013382410-7f4a69f9-21eb-4202-8c19-e86eddea404b.csv\n",
      "Processing time for training-session-2024-12-07-8013382410-7f4a69f9-21eb-4202-8c19-e86eddea404b.json: 59.63 seconds\n",
      "Processing file: training-session-2023-02-19-7585031522-15a5cf2b-eeac-436e-a9e6-31be924cfbc8.json\n"
     ]
    },
    {
     "name": "stderr",
     "output_type": "stream",
     "text": [
      " 16%|█▋        | 242/1468 [23:03<1:38:53,  4.84s/it]"
     ]
    },
    {
     "name": "stdout",
     "output_type": "stream",
     "text": [
      "Saved processed data to: /home/eaguayo/workspace/ml-project/data/long-tr-data/training-session-2023-02-19-7585031522-15a5cf2b-eeac-436e-a9e6-31be924cfbc8.csv\n",
      "Processing time for training-session-2023-02-19-7585031522-15a5cf2b-eeac-436e-a9e6-31be924cfbc8.json: 27.29 seconds\n",
      "Processing file: training-session-2021-08-22-6412871504-cb5b54f1-6dcf-47bf-9945-355144bb16e5.json\n"
     ]
    },
    {
     "name": "stderr",
     "output_type": "stream",
     "text": [
      " 17%|█▋        | 255/1468 [23:40<1:05:26,  3.24s/it]"
     ]
    },
    {
     "name": "stdout",
     "output_type": "stream",
     "text": [
      "Saved processed data to: /home/eaguayo/workspace/ml-project/data/long-tr-data/training-session-2021-08-22-6412871504-cb5b54f1-6dcf-47bf-9945-355144bb16e5.csv\n",
      "Processing time for training-session-2021-08-22-6412871504-cb5b54f1-6dcf-47bf-9945-355144bb16e5.json: 37.23 seconds\n"
     ]
    },
    {
     "name": "stderr",
     "output_type": "stream",
     "text": [
      " 18%|█▊        | 264/1468 [23:40<39:44,  1.98s/it]  "
     ]
    },
    {
     "name": "stdout",
     "output_type": "stream",
     "text": [
      "Processing file: training-session-2023-07-01-7677360742-8982365b-0fcf-4ccc-836e-692237922a6a.json\n"
     ]
    },
    {
     "name": "stderr",
     "output_type": "stream",
     "text": [
      " 18%|█▊        | 271/1468 [24:24<1:00:34,  3.04s/it]"
     ]
    },
    {
     "name": "stdout",
     "output_type": "stream",
     "text": [
      "Saved processed data to: /home/eaguayo/workspace/ml-project/data/long-tr-data/training-session-2023-07-01-7677360742-8982365b-0fcf-4ccc-836e-692237922a6a.csv\n",
      "Processing time for training-session-2023-07-01-7677360742-8982365b-0fcf-4ccc-836e-692237922a6a.json: 43.18 seconds\n"
     ]
    },
    {
     "name": "stderr",
     "output_type": "stream",
     "text": [
      " 21%|██        | 302/1468 [24:24<12:43,  1.53it/s]  "
     ]
    },
    {
     "name": "stdout",
     "output_type": "stream",
     "text": [
      "Processing file: training-session-2021-12-05-6783015779-3abbba2d-9663-4627-a893-12799b78f9f0.json\n",
      "An unexpected error occurred in file: training-session-2021-12-05-6783015779-3abbba2d-9663-4627-a893-12799b78f9f0.json with error 'value'\n",
      "Processing file: training-session-2025-03-23-8078233046-62fbec09-969b-4960-b3c0-93a55c17f778.json\n"
     ]
    },
    {
     "name": "stderr",
     "output_type": "stream",
     "text": [
      " 21%|██▏       | 315/1468 [25:19<37:16,  1.94s/it]"
     ]
    },
    {
     "name": "stdout",
     "output_type": "stream",
     "text": [
      "Saved processed data to: /home/eaguayo/workspace/ml-project/data/long-tr-data/training-session-2025-03-23-8078233046-62fbec09-969b-4960-b3c0-93a55c17f778.csv\n",
      "Processing time for training-session-2025-03-23-8078233046-62fbec09-969b-4960-b3c0-93a55c17f778.json: 41.14 seconds\n",
      "Processing file: training-session-2022-08-27-7480301712-0c03262f-f14d-4a22-b5cf-b14a490bdf7b.json\n"
     ]
    },
    {
     "name": "stderr",
     "output_type": "stream",
     "text": [
      " 23%|██▎       | 332/1468 [25:42<28:39,  1.51s/it]"
     ]
    },
    {
     "name": "stdout",
     "output_type": "stream",
     "text": [
      "An unexpected error occurred in file: training-session-2022-08-27-7480301712-0c03262f-f14d-4a22-b5cf-b14a490bdf7b.json with error 'value'\n",
      "Processing file: training-session-2023-01-14-7560155188-6ad317a4-8ace-4132-97a8-d5098e3603da.json\n"
     ]
    },
    {
     "name": "stderr",
     "output_type": "stream",
     "text": [
      " 23%|██▎       | 343/1468 [26:34<47:58,  2.56s/it]"
     ]
    },
    {
     "name": "stdout",
     "output_type": "stream",
     "text": [
      "Saved processed data to: /home/eaguayo/workspace/ml-project/data/long-tr-data/training-session-2023-01-14-7560155188-6ad317a4-8ace-4132-97a8-d5098e3603da.csv\n",
      "Processing time for training-session-2023-01-14-7560155188-6ad317a4-8ace-4132-97a8-d5098e3603da.json: 51.39 seconds\n",
      "Processing file: training-session-2024-08-10-7938217979-a60d07c7-e295-4588-983e-1e8c7c440f12.json\n"
     ]
    },
    {
     "name": "stderr",
     "output_type": "stream",
     "text": [
      " 24%|██▍       | 354/1468 [27:28<57:59,  3.12s/it]  "
     ]
    },
    {
     "name": "stdout",
     "output_type": "stream",
     "text": [
      "Saved processed data to: /home/eaguayo/workspace/ml-project/data/long-tr-data/training-session-2024-08-10-7938217979-a60d07c7-e295-4588-983e-1e8c7c440f12.csv\n",
      "Processing time for training-session-2024-08-10-7938217979-a60d07c7-e295-4588-983e-1e8c7c440f12.json: 53.29 seconds\n"
     ]
    },
    {
     "name": "stderr",
     "output_type": "stream",
     "text": [
      " 25%|██▍       | 360/1468 [27:28<40:56,  2.22s/it]"
     ]
    },
    {
     "name": "stdout",
     "output_type": "stream",
     "text": [
      "Processing file: training-session-2025-01-11-8032306526-5cfb2593-89b5-4666-9aa5-e9d025f710fa.json\n"
     ]
    },
    {
     "name": "stderr",
     "output_type": "stream",
     "text": [
      " 25%|██▍       | 366/1468 [28:02<59:52,  3.26s/it]"
     ]
    },
    {
     "name": "stdout",
     "output_type": "stream",
     "text": [
      "Saved processed data to: /home/eaguayo/workspace/ml-project/data/long-tr-data/training-session-2025-01-11-8032306526-5cfb2593-89b5-4666-9aa5-e9d025f710fa.csv\n",
      "Processing time for training-session-2025-01-11-8032306526-5cfb2593-89b5-4666-9aa5-e9d025f710fa.json: 34.42 seconds\n",
      "Processing file: training-session-2021-10-16-6621579699-e8e499aa-7d42-44de-ae1a-f23341328019.json\n"
     ]
    },
    {
     "name": "stderr",
     "output_type": "stream",
     "text": [
      " 25%|██▌       | 373/1468 [28:33<1:06:04,  3.62s/it]"
     ]
    },
    {
     "name": "stdout",
     "output_type": "stream",
     "text": [
      "Saved processed data to: /home/eaguayo/workspace/ml-project/data/long-tr-data/training-session-2021-10-16-6621579699-e8e499aa-7d42-44de-ae1a-f23341328019.csv\n",
      "Processing time for training-session-2021-10-16-6621579699-e8e499aa-7d42-44de-ae1a-f23341328019.json: 30.35 seconds\n",
      "Processing file: training-session-2024-01-20-7802710335-4d355fb9-793e-4a09-9440-044af7123341.json\n"
     ]
    },
    {
     "name": "stderr",
     "output_type": "stream",
     "text": [
      " 26%|██▌       | 381/1468 [29:28<1:17:30,  4.28s/it]"
     ]
    },
    {
     "name": "stdout",
     "output_type": "stream",
     "text": [
      "Saved processed data to: /home/eaguayo/workspace/ml-project/data/long-tr-data/training-session-2024-01-20-7802710335-4d355fb9-793e-4a09-9440-044af7123341.csv\n",
      "Processing time for training-session-2024-01-20-7802710335-4d355fb9-793e-4a09-9440-044af7123341.json: 54.73 seconds\n"
     ]
    },
    {
     "name": "stderr",
     "output_type": "stream",
     "text": [
      " 27%|██▋       | 395/1468 [29:28<32:06,  1.80s/it]  "
     ]
    },
    {
     "name": "stdout",
     "output_type": "stream",
     "text": [
      "Processing file: training-session-2025-04-17-8097527167-c71fd6ff-9718-47a2-a948-7ed5eb38990c.json\n"
     ]
    },
    {
     "name": "stderr",
     "output_type": "stream",
     "text": [
      " 27%|██▋       | 400/1468 [30:01<53:45,  3.02s/it]"
     ]
    },
    {
     "name": "stdout",
     "output_type": "stream",
     "text": [
      "Saved processed data to: /home/eaguayo/workspace/ml-project/data/long-tr-data/training-session-2025-04-17-8097527167-c71fd6ff-9718-47a2-a948-7ed5eb38990c.csv\n",
      "Processing time for training-session-2025-04-17-8097527167-c71fd6ff-9718-47a2-a948-7ed5eb38990c.json: 32.91 seconds\n",
      "Processing file: training-session-2024-03-09-7834822395-50f82ebe-0558-4ffb-9bad-59e755e4fe6e.json\n"
     ]
    },
    {
     "name": "stderr",
     "output_type": "stream",
     "text": [
      " 27%|██▋       | 402/1468 [30:36<1:25:53,  4.83s/it]"
     ]
    },
    {
     "name": "stdout",
     "output_type": "stream",
     "text": [
      "Saved processed data to: /home/eaguayo/workspace/ml-project/data/long-tr-data/training-session-2024-03-09-7834822395-50f82ebe-0558-4ffb-9bad-59e755e4fe6e.csv\n",
      "Processing time for training-session-2024-03-09-7834822395-50f82ebe-0558-4ffb-9bad-59e755e4fe6e.json: 34.52 seconds\n",
      "Processing file: training-session-2022-11-12-7525658417-bc99fa78-aeee-4ae1-a588-77225766cac3.json\n"
     ]
    },
    {
     "name": "stderr",
     "output_type": "stream",
     "text": [
      " 28%|██▊       | 404/1468 [30:44<1:23:31,  4.71s/it]"
     ]
    },
    {
     "name": "stdout",
     "output_type": "stream",
     "text": [
      "An unexpected error occurred in file: training-session-2022-11-12-7525658417-bc99fa78-aeee-4ae1-a588-77225766cac3.json with error 'value'\n",
      "Processing file: training-session-2024-04-21-7864545846-7e21ae51-e19d-4672-912a-b66e091d884a.json\n"
     ]
    },
    {
     "name": "stderr",
     "output_type": "stream",
     "text": [
      " 29%|██▊       | 419/1468 [31:13<47:33,  2.72s/it]  "
     ]
    },
    {
     "name": "stdout",
     "output_type": "stream",
     "text": [
      "Saved processed data to: /home/eaguayo/workspace/ml-project/data/long-tr-data/training-session-2024-04-21-7864545846-7e21ae51-e19d-4672-912a-b66e091d884a.csv\n",
      "Processing time for training-session-2024-04-21-7864545846-7e21ae51-e19d-4672-912a-b66e091d884a.json: 29.31 seconds\n",
      "Processing file: training-session-2024-05-16-7881264078-65b271cf-32be-4d34-bd82-56fae2b9c0ab.json\n"
     ]
    },
    {
     "name": "stderr",
     "output_type": "stream",
     "text": [
      " 29%|██▊       | 421/1468 [31:41<1:13:07,  4.19s/it]"
     ]
    },
    {
     "name": "stdout",
     "output_type": "stream",
     "text": [
      "Saved processed data to: /home/eaguayo/workspace/ml-project/data/long-tr-data/training-session-2024-05-16-7881264078-65b271cf-32be-4d34-bd82-56fae2b9c0ab.csv\n",
      "Processing time for training-session-2024-05-16-7881264078-65b271cf-32be-4d34-bd82-56fae2b9c0ab.json: 27.54 seconds\n",
      "Processing file: training-session-2022-10-02-7505258866-3da50c3c-f7f4-4554-85e0-97948c5f765b.json\n"
     ]
    },
    {
     "name": "stderr",
     "output_type": "stream",
     "text": [
      " 29%|██▉       | 426/1468 [32:31<1:44:43,  6.03s/it]"
     ]
    },
    {
     "name": "stdout",
     "output_type": "stream",
     "text": [
      "Saved processed data to: /home/eaguayo/workspace/ml-project/data/long-tr-data/training-session-2022-10-02-7505258866-3da50c3c-f7f4-4554-85e0-97948c5f765b.csv\n",
      "Processing time for training-session-2022-10-02-7505258866-3da50c3c-f7f4-4554-85e0-97948c5f765b.json: 49.38 seconds\n",
      "Processing file: training-session-2022-07-09-7453960592-57e884c6-24f9-4de9-82b9-3bf6416ac5cf.json\n"
     ]
    },
    {
     "name": "stderr",
     "output_type": "stream",
     "text": [
      " 29%|██▉       | 431/1468 [33:00<1:33:32,  5.41s/it]"
     ]
    },
    {
     "name": "stdout",
     "output_type": "stream",
     "text": [
      "Saved processed data to: /home/eaguayo/workspace/ml-project/data/long-tr-data/training-session-2022-07-09-7453960592-57e884c6-24f9-4de9-82b9-3bf6416ac5cf.csv\n",
      "Processing time for training-session-2022-07-09-7453960592-57e884c6-24f9-4de9-82b9-3bf6416ac5cf.json: 29.33 seconds\n"
     ]
    },
    {
     "name": "stderr",
     "output_type": "stream",
     "text": [
      " 30%|███       | 445/1468 [33:00<30:47,  1.81s/it]  "
     ]
    },
    {
     "name": "stdout",
     "output_type": "stream",
     "text": [
      "Processing file: training-session-2023-02-04-7574629716-f0cd1788-7f98-4cb7-9ce8-ca05747c11bc.json\n"
     ]
    },
    {
     "name": "stderr",
     "output_type": "stream",
     "text": [
      " 31%|███       | 448/1468 [33:56<1:24:43,  4.98s/it]"
     ]
    },
    {
     "name": "stdout",
     "output_type": "stream",
     "text": [
      "Saved processed data to: /home/eaguayo/workspace/ml-project/data/long-tr-data/training-session-2023-02-04-7574629716-f0cd1788-7f98-4cb7-9ce8-ca05747c11bc.csv\n",
      "Processing time for training-session-2023-02-04-7574629716-f0cd1788-7f98-4cb7-9ce8-ca05747c11bc.json: 55.38 seconds\n",
      "Processing file: training-session-2024-01-06-7793402362-41f2f457-b41a-4fbe-9a4e-0b3974a48b20.json\n"
     ]
    },
    {
     "name": "stderr",
     "output_type": "stream",
     "text": [
      " 31%|███       | 452/1468 [35:07<2:22:02,  8.39s/it]"
     ]
    },
    {
     "name": "stdout",
     "output_type": "stream",
     "text": [
      "Saved processed data to: /home/eaguayo/workspace/ml-project/data/long-tr-data/training-session-2024-01-06-7793402362-41f2f457-b41a-4fbe-9a4e-0b3974a48b20.csv\n",
      "Processing time for training-session-2024-01-06-7793402362-41f2f457-b41a-4fbe-9a4e-0b3974a48b20.json: 70.90 seconds\n",
      "Processing file: training-session-2022-08-07-7480303011-f0da9c82-1fcd-4655-b3dd-609829385671.json\n"
     ]
    },
    {
     "name": "stderr",
     "output_type": "stream",
     "text": [
      " 32%|███▏      | 464/1468 [36:46<2:02:55,  7.35s/it]"
     ]
    },
    {
     "name": "stdout",
     "output_type": "stream",
     "text": [
      "Saved processed data to: /home/eaguayo/workspace/ml-project/data/long-tr-data/training-session-2022-08-07-7480303011-f0da9c82-1fcd-4655-b3dd-609829385671.csv\n",
      "Processing time for training-session-2022-08-07-7480303011-f0da9c82-1fcd-4655-b3dd-609829385671.json: 98.78 seconds\n",
      "Processing file: training-session-2021-05-01-5986672859-e3d8304e-2a54-4c59-a2be-ccd21d78040d.json\n"
     ]
    },
    {
     "name": "stderr",
     "output_type": "stream",
     "text": [
      " 32%|███▏      | 468/1468 [37:25<2:11:25,  7.89s/it]"
     ]
    },
    {
     "name": "stdout",
     "output_type": "stream",
     "text": [
      "Saved processed data to: /home/eaguayo/workspace/ml-project/data/long-tr-data/training-session-2021-05-01-5986672859-e3d8304e-2a54-4c59-a2be-ccd21d78040d.csv\n",
      "Processing time for training-session-2021-05-01-5986672859-e3d8304e-2a54-4c59-a2be-ccd21d78040d.json: 38.13 seconds\n",
      "Processing file: training-session-2022-06-04-7424439246-03300de3-df13-463d-8e5f-33ecdfe7f113.json\n"
     ]
    },
    {
     "name": "stderr",
     "output_type": "stream",
     "text": [
      " 32%|███▏      | 476/1468 [38:05<1:40:33,  6.08s/it]"
     ]
    },
    {
     "name": "stdout",
     "output_type": "stream",
     "text": [
      "Saved processed data to: /home/eaguayo/workspace/ml-project/data/long-tr-data/training-session-2022-06-04-7424439246-03300de3-df13-463d-8e5f-33ecdfe7f113.csv\n",
      "Processing time for training-session-2022-06-04-7424439246-03300de3-df13-463d-8e5f-33ecdfe7f113.json: 40.59 seconds\n",
      "Processing file: training-session-2021-09-25-6540377489-ecd0a806-76c1-45f3-98f4-0efc55791d07.json\n"
     ]
    },
    {
     "name": "stderr",
     "output_type": "stream",
     "text": [
      " 32%|███▏      | 477/1468 [38:50<2:35:40,  9.43s/it]"
     ]
    },
    {
     "name": "stdout",
     "output_type": "stream",
     "text": [
      "Saved processed data to: /home/eaguayo/workspace/ml-project/data/long-tr-data/training-session-2021-09-25-6540377489-ecd0a806-76c1-45f3-98f4-0efc55791d07.csv\n",
      "Processing time for training-session-2021-09-25-6540377489-ecd0a806-76c1-45f3-98f4-0efc55791d07.json: 44.87 seconds\n",
      "Processing file: training-session-2024-10-26-7987959767-e6d129f0-4f27-4f3e-a18c-4d88c89b65ea.json\n"
     ]
    },
    {
     "name": "stderr",
     "output_type": "stream",
     "text": [
      " 33%|███▎      | 485/1468 [39:48<2:06:29,  7.72s/it]"
     ]
    },
    {
     "name": "stdout",
     "output_type": "stream",
     "text": [
      "Saved processed data to: /home/eaguayo/workspace/ml-project/data/long-tr-data/training-session-2024-10-26-7987959767-e6d129f0-4f27-4f3e-a18c-4d88c89b65ea.csv\n",
      "Processing time for training-session-2024-10-26-7987959767-e6d129f0-4f27-4f3e-a18c-4d88c89b65ea.json: 57.44 seconds\n"
     ]
    },
    {
     "name": "stderr",
     "output_type": "stream",
     "text": [
      " 33%|███▎      | 490/1468 [39:48<1:19:31,  4.88s/it]"
     ]
    },
    {
     "name": "stdout",
     "output_type": "stream",
     "text": [
      "Processing file: training-session-2022-03-15-7120460815-8e7ef2ba-d9f7-457f-92e2-82017385949e.json\n"
     ]
    },
    {
     "name": "stderr",
     "output_type": "stream",
     "text": [
      " 34%|███▍      | 497/1468 [40:29<1:25:21,  5.27s/it]"
     ]
    },
    {
     "name": "stdout",
     "output_type": "stream",
     "text": [
      "Saved processed data to: /home/eaguayo/workspace/ml-project/data/long-tr-data/training-session-2022-03-15-7120460815-8e7ef2ba-d9f7-457f-92e2-82017385949e.csv\n",
      "Processing time for training-session-2022-03-15-7120460815-8e7ef2ba-d9f7-457f-92e2-82017385949e.json: 40.53 seconds\n",
      "Processing file: training-session-2022-02-12-7051866790-7ed8c149-0e52-4cd0-8885-f6ebe11fffb0.json\n"
     ]
    },
    {
     "name": "stderr",
     "output_type": "stream",
     "text": [
      " 34%|███▍      | 502/1468 [43:52<4:04:19, 15.18s/it]"
     ]
    },
    {
     "name": "stdout",
     "output_type": "stream",
     "text": [
      "Saved processed data to: /home/eaguayo/workspace/ml-project/data/long-tr-data/training-session-2022-02-12-7051866790-7ed8c149-0e52-4cd0-8885-f6ebe11fffb0.csv\n",
      "Processing time for training-session-2022-02-12-7051866790-7ed8c149-0e52-4cd0-8885-f6ebe11fffb0.json: 202.34 seconds\n"
     ]
    },
    {
     "name": "stderr",
     "output_type": "stream",
     "text": [
      " 35%|███▍      | 509/1468 [44:22<2:43:59, 10.26s/it]"
     ]
    },
    {
     "name": "stdout",
     "output_type": "stream",
     "text": [
      "Processing file: training-session-2023-04-07-7620736441-5351acbf-c281-446f-9f37-6810dff2f76f.json\n",
      "Saved processed data to: /home/eaguayo/workspace/ml-project/data/long-tr-data/training-session-2023-04-07-7620736441-5351acbf-c281-446f-9f37-6810dff2f76f.csv\n",
      "Processing time for training-session-2023-04-07-7620736441-5351acbf-c281-446f-9f37-6810dff2f76f.json: 29.83 seconds\n",
      "Processing file: training-session-2025-04-05-8090858642-183e3db9-8a48-4849-a88a-e79f8db3356d.json\n"
     ]
    },
    {
     "name": "stderr",
     "output_type": "stream",
     "text": [
      " 35%|███▌      | 516/1468 [44:50<2:03:37,  7.79s/it]"
     ]
    },
    {
     "name": "stdout",
     "output_type": "stream",
     "text": [
      "Saved processed data to: /home/eaguayo/workspace/ml-project/data/long-tr-data/training-session-2025-04-05-8090858642-183e3db9-8a48-4849-a88a-e79f8db3356d.csv\n",
      "Processing time for training-session-2025-04-05-8090858642-183e3db9-8a48-4849-a88a-e79f8db3356d.json: 27.61 seconds\n",
      "Processing file: training-session-2022-09-10-7491441968-5b79cc93-9401-491c-9e18-5ad7d3d3c14d.json\n"
     ]
    },
    {
     "name": "stderr",
     "output_type": "stream",
     "text": [
      " 35%|███▌      | 519/1468 [46:09<2:51:19, 10.83s/it]"
     ]
    },
    {
     "name": "stdout",
     "output_type": "stream",
     "text": [
      "Saved processed data to: /home/eaguayo/workspace/ml-project/data/long-tr-data/training-session-2022-09-10-7491441968-5b79cc93-9401-491c-9e18-5ad7d3d3c14d.csv\n",
      "Processing time for training-session-2022-09-10-7491441968-5b79cc93-9401-491c-9e18-5ad7d3d3c14d.json: 79.38 seconds\n"
     ]
    },
    {
     "name": "stderr",
     "output_type": "stream",
     "text": [
      " 36%|███▌      | 522/1468 [46:09<2:04:25,  7.89s/it]"
     ]
    },
    {
     "name": "stdout",
     "output_type": "stream",
     "text": [
      "Processing file: training-session-2021-07-19-6286427499-1e54cf5b-e8c5-4c5a-b0f0-2c8575998c22.json\n"
     ]
    },
    {
     "name": "stderr",
     "output_type": "stream",
     "text": [
      " 36%|███▌      | 526/1468 [46:57<2:24:54,  9.23s/it]"
     ]
    },
    {
     "name": "stdout",
     "output_type": "stream",
     "text": [
      "Saved processed data to: /home/eaguayo/workspace/ml-project/data/long-tr-data/training-session-2021-07-19-6286427499-1e54cf5b-e8c5-4c5a-b0f0-2c8575998c22.csv\n",
      "Processing time for training-session-2021-07-19-6286427499-1e54cf5b-e8c5-4c5a-b0f0-2c8575998c22.json: 47.11 seconds\n",
      "Processing file: training-session-2022-02-26-7120473115-cbab6326-5146-42f2-9d3c-01bfe5bb07d9.json\n"
     ]
    },
    {
     "name": "stderr",
     "output_type": "stream",
     "text": [
      " 37%|███▋      | 536/1468 [47:46<1:29:35,  5.77s/it]"
     ]
    },
    {
     "name": "stdout",
     "output_type": "stream",
     "text": [
      "Saved processed data to: /home/eaguayo/workspace/ml-project/data/long-tr-data/training-session-2022-02-26-7120473115-cbab6326-5146-42f2-9d3c-01bfe5bb07d9.csv\n",
      "Processing time for training-session-2022-02-26-7120473115-cbab6326-5146-42f2-9d3c-01bfe5bb07d9.json: 48.75 seconds\n"
     ]
    },
    {
     "name": "stderr",
     "output_type": "stream",
     "text": [
      " 37%|███▋      | 548/1468 [47:46<41:33,  2.71s/it]  "
     ]
    },
    {
     "name": "stdout",
     "output_type": "stream",
     "text": [
      "Processing file: training-session-2024-05-26-7887986881-d3ec9330-b0fd-4022-9781-1b620e98a7c2.json\n"
     ]
    },
    {
     "name": "stderr",
     "output_type": "stream",
     "text": [
      " 38%|███▊      | 555/1468 [48:40<1:00:22,  3.97s/it]"
     ]
    },
    {
     "name": "stdout",
     "output_type": "stream",
     "text": [
      "Saved processed data to: /home/eaguayo/workspace/ml-project/data/long-tr-data/training-session-2024-05-26-7887986881-d3ec9330-b0fd-4022-9781-1b620e98a7c2.csv\n",
      "Processing time for training-session-2024-05-26-7887986881-d3ec9330-b0fd-4022-9781-1b620e98a7c2.json: 54.18 seconds\n",
      "Processing file: training-session-2023-12-29-7790721279-2fce84f4-33de-48ac-8c69-bee4e7e1e4a1.json\n"
     ]
    },
    {
     "name": "stderr",
     "output_type": "stream",
     "text": [
      " 38%|███▊      | 561/1468 [49:34<1:16:10,  5.04s/it]"
     ]
    },
    {
     "name": "stdout",
     "output_type": "stream",
     "text": [
      "Saved processed data to: /home/eaguayo/workspace/ml-project/data/long-tr-data/training-session-2023-12-29-7790721279-2fce84f4-33de-48ac-8c69-bee4e7e1e4a1.csv\n",
      "Processing time for training-session-2023-12-29-7790721279-2fce84f4-33de-48ac-8c69-bee4e7e1e4a1.json: 53.66 seconds\n"
     ]
    },
    {
     "name": "stderr",
     "output_type": "stream",
     "text": [
      " 39%|███▉      | 572/1468 [49:34<32:32,  2.18s/it]  "
     ]
    },
    {
     "name": "stdout",
     "output_type": "stream",
     "text": [
      "Processing file: training-session-2025-03-07-8067673091-6f8df649-a05e-486b-a405-7cfac373eea9.json\n"
     ]
    },
    {
     "name": "stderr",
     "output_type": "stream",
     "text": [
      " 39%|███▉      | 579/1468 [50:06<45:30,  3.07s/it]"
     ]
    },
    {
     "name": "stdout",
     "output_type": "stream",
     "text": [
      "Saved processed data to: /home/eaguayo/workspace/ml-project/data/long-tr-data/training-session-2025-03-07-8067673091-6f8df649-a05e-486b-a405-7cfac373eea9.csv\n",
      "Processing time for training-session-2025-03-07-8067673091-6f8df649-a05e-486b-a405-7cfac373eea9.json: 31.40 seconds\n",
      "Processing file: training-session-2024-09-04-7955108351-0b8c7bc2-a44d-4c10-9796-8b7f1b81a013.json\n"
     ]
    },
    {
     "name": "stderr",
     "output_type": "stream",
     "text": [
      " 40%|███▉      | 586/1468 [50:35<50:28,  3.43s/it]"
     ]
    },
    {
     "name": "stdout",
     "output_type": "stream",
     "text": [
      "Saved processed data to: /home/eaguayo/workspace/ml-project/data/long-tr-data/training-session-2024-09-04-7955108351-0b8c7bc2-a44d-4c10-9796-8b7f1b81a013.csv\n",
      "Processing time for training-session-2024-09-04-7955108351-0b8c7bc2-a44d-4c10-9796-8b7f1b81a013.json: 28.56 seconds\n",
      "Processing file: training-session-2022-12-11-7552168341-77ef57ef-0f3b-4496-ac31-6ed9067dd9e4.json\n"
     ]
    },
    {
     "name": "stderr",
     "output_type": "stream",
     "text": [
      " 41%|████      | 595/1468 [51:17<57:30,  3.95s/it]"
     ]
    },
    {
     "name": "stdout",
     "output_type": "stream",
     "text": [
      "Saved processed data to: /home/eaguayo/workspace/ml-project/data/long-tr-data/training-session-2022-12-11-7552168341-77ef57ef-0f3b-4496-ac31-6ed9067dd9e4.csv\n",
      "Processing time for training-session-2022-12-11-7552168341-77ef57ef-0f3b-4496-ac31-6ed9067dd9e4.json: 42.56 seconds\n",
      "Processing file: training-session-2021-08-08-6359305819-e93843c7-0af4-4ee4-9089-366ae1104705.json\n"
     ]
    },
    {
     "name": "stderr",
     "output_type": "stream",
     "text": [
      " 41%|████      | 603/1468 [52:12<1:03:43,  4.42s/it]"
     ]
    },
    {
     "name": "stdout",
     "output_type": "stream",
     "text": [
      "Saved processed data to: /home/eaguayo/workspace/ml-project/data/long-tr-data/training-session-2021-08-08-6359305819-e93843c7-0af4-4ee4-9089-366ae1104705.csv\n",
      "Processing time for training-session-2021-08-08-6359305819-e93843c7-0af4-4ee4-9089-366ae1104705.json: 53.95 seconds\n",
      "Processing file: training-session-2022-03-22-7156279935-5137845c-b30d-4cc6-9892-e91bb02d4f33.json\n"
     ]
    },
    {
     "name": "stderr",
     "output_type": "stream",
     "text": [
      " 41%|████      | 605/1468 [52:55<1:37:02,  6.75s/it]"
     ]
    },
    {
     "name": "stdout",
     "output_type": "stream",
     "text": [
      "Saved processed data to: /home/eaguayo/workspace/ml-project/data/long-tr-data/training-session-2022-03-22-7156279935-5137845c-b30d-4cc6-9892-e91bb02d4f33.csv\n",
      "Processing time for training-session-2022-03-22-7156279935-5137845c-b30d-4cc6-9892-e91bb02d4f33.json: 43.69 seconds\n",
      "Processing file: training-session-2024-05-05-7873796267-ba5301d0-6ab2-4e07-95c2-74ed06d7e51a.json\n"
     ]
    },
    {
     "name": "stderr",
     "output_type": "stream",
     "text": [
      " 42%|████▏     | 612/1468 [53:07<1:00:56,  4.27s/it]"
     ]
    },
    {
     "name": "stdout",
     "output_type": "stream",
     "text": [
      "An unexpected error occurred in file: training-session-2024-05-05-7873796267-ba5301d0-6ab2-4e07-95c2-74ed06d7e51a.json with error 'value'\n"
     ]
    },
    {
     "name": "stderr",
     "output_type": "stream",
     "text": [
      " 42%|████▏     | 622/1468 [53:07<26:30,  1.88s/it]  "
     ]
    },
    {
     "name": "stdout",
     "output_type": "stream",
     "text": [
      "Processing file: training-session-2024-04-06-7855501978-a4ae0139-b901-4c13-80e9-ecf9fd8750ff.json\n"
     ]
    },
    {
     "name": "stderr",
     "output_type": "stream",
     "text": [
      " 43%|████▎     | 627/1468 [53:37<44:47,  3.20s/it]"
     ]
    },
    {
     "name": "stdout",
     "output_type": "stream",
     "text": [
      "Saved processed data to: /home/eaguayo/workspace/ml-project/data/long-tr-data/training-session-2024-04-06-7855501978-a4ae0139-b901-4c13-80e9-ecf9fd8750ff.csv\n",
      "Processing time for training-session-2024-04-06-7855501978-a4ae0139-b901-4c13-80e9-ecf9fd8750ff.json: 29.75 seconds\n"
     ]
    },
    {
     "name": "stderr",
     "output_type": "stream",
     "text": [
      " 44%|████▍     | 647/1468 [53:37<11:53,  1.15it/s]"
     ]
    },
    {
     "name": "stdout",
     "output_type": "stream",
     "text": [
      "Processing file: training-session-2023-05-06-7639020103-58c48950-10a5-46ad-ad58-416932672163.json\n"
     ]
    },
    {
     "name": "stderr",
     "output_type": "stream",
     "text": [
      " 45%|████▍     | 656/1468 [54:30<34:06,  2.52s/it]"
     ]
    },
    {
     "name": "stdout",
     "output_type": "stream",
     "text": [
      "Saved processed data to: /home/eaguayo/workspace/ml-project/data/long-tr-data/training-session-2023-05-06-7639020103-58c48950-10a5-46ad-ad58-416932672163.csv\n",
      "Processing time for training-session-2023-05-06-7639020103-58c48950-10a5-46ad-ad58-416932672163.json: 53.02 seconds\n",
      "Processing file: training-session-2025-02-02-8047483986-d76d2f19-5c31-4d9c-86be-6143a929a3fb.json\n"
     ]
    },
    {
     "name": "stderr",
     "output_type": "stream",
     "text": [
      " 45%|████▌     | 663/1468 [56:07<1:27:29,  6.52s/it]"
     ]
    },
    {
     "name": "stdout",
     "output_type": "stream",
     "text": [
      "Saved processed data to: /home/eaguayo/workspace/ml-project/data/long-tr-data/training-session-2025-02-02-8047483986-d76d2f19-5c31-4d9c-86be-6143a929a3fb.csv\n",
      "Processing time for training-session-2025-02-02-8047483986-d76d2f19-5c31-4d9c-86be-6143a929a3fb.json: 96.26 seconds\n",
      "Processing file: training-session-2023-10-15-7745762431-8617e09e-ceac-4cba-9223-4c93ff5ad69f.json\n"
     ]
    },
    {
     "name": "stderr",
     "output_type": "stream",
     "text": [
      " 45%|████▌     | 666/1468 [56:43<1:40:09,  7.49s/it]"
     ]
    },
    {
     "name": "stdout",
     "output_type": "stream",
     "text": [
      "Saved processed data to: /home/eaguayo/workspace/ml-project/data/long-tr-data/training-session-2023-10-15-7745762431-8617e09e-ceac-4cba-9223-4c93ff5ad69f.csv\n",
      "Processing time for training-session-2023-10-15-7745762431-8617e09e-ceac-4cba-9223-4c93ff5ad69f.json: 35.77 seconds\n",
      "Processing file: training-session-2024-08-31-7952350588-8732ecb1-bf2a-459d-bc91-48651806264e.json\n"
     ]
    },
    {
     "name": "stderr",
     "output_type": "stream",
     "text": [
      " 45%|████▌     | 667/1468 [57:11<2:02:06,  9.15s/it]"
     ]
    },
    {
     "name": "stdout",
     "output_type": "stream",
     "text": [
      "Saved processed data to: /home/eaguayo/workspace/ml-project/data/long-tr-data/training-session-2024-08-31-7952350588-8732ecb1-bf2a-459d-bc91-48651806264e.csv\n",
      "Processing time for training-session-2024-08-31-7952350588-8732ecb1-bf2a-459d-bc91-48651806264e.json: 28.55 seconds\n",
      "Processing file: training-session-2024-12-14-8017603444-0a5a97c3-a959-4dd2-a85e-83f4eb5264e7.json\n"
     ]
    },
    {
     "name": "stderr",
     "output_type": "stream",
     "text": [
      " 46%|████▋     | 679/1468 [57:40<1:01:39,  4.69s/it]"
     ]
    },
    {
     "name": "stdout",
     "output_type": "stream",
     "text": [
      "Saved processed data to: /home/eaguayo/workspace/ml-project/data/long-tr-data/training-session-2024-12-14-8017603444-0a5a97c3-a959-4dd2-a85e-83f4eb5264e7.csv\n",
      "Processing time for training-session-2024-12-14-8017603444-0a5a97c3-a959-4dd2-a85e-83f4eb5264e7.json: 28.09 seconds\n",
      "Processing file: training-session-2022-04-05-7268592500-4bdb820b-e576-442c-8c39-f786515ba77d.json\n"
     ]
    },
    {
     "name": "stderr",
     "output_type": "stream",
     "text": [
      " 47%|████▋     | 684/1468 [57:53<53:28,  4.09s/it]  "
     ]
    },
    {
     "name": "stdout",
     "output_type": "stream",
     "text": [
      "An unexpected error occurred in file: training-session-2022-04-05-7268592500-4bdb820b-e576-442c-8c39-f786515ba77d.json with error 'value'\n",
      "Processing file: training-session-2024-10-05-7975707566-7c346801-5333-41a4-ab08-a88150791f21.json\n"
     ]
    },
    {
     "name": "stderr",
     "output_type": "stream",
     "text": [
      " 47%|████▋     | 690/1468 [58:54<1:12:21,  5.58s/it]"
     ]
    },
    {
     "name": "stdout",
     "output_type": "stream",
     "text": [
      "Saved processed data to: /home/eaguayo/workspace/ml-project/data/long-tr-data/training-session-2024-10-05-7975707566-7c346801-5333-41a4-ab08-a88150791f21.csv\n",
      "Processing time for training-session-2024-10-05-7975707566-7c346801-5333-41a4-ab08-a88150791f21.json: 59.95 seconds\n"
     ]
    },
    {
     "name": "stderr",
     "output_type": "stream",
     "text": [
      " 48%|████▊     | 703/1468 [58:54<27:29,  2.16s/it]  "
     ]
    },
    {
     "name": "stdout",
     "output_type": "stream",
     "text": [
      "Processing file: training-session-2023-05-20-7647358997-8f71aff4-55cb-4882-8a60-aedfa956d72c.json\n"
     ]
    },
    {
     "name": "stderr",
     "output_type": "stream",
     "text": [
      " 48%|████▊     | 704/1468 [1:00:00<1:30:04,  7.07s/it]"
     ]
    },
    {
     "name": "stdout",
     "output_type": "stream",
     "text": [
      "Saved processed data to: /home/eaguayo/workspace/ml-project/data/long-tr-data/training-session-2023-05-20-7647358997-8f71aff4-55cb-4882-8a60-aedfa956d72c.csv\n",
      "Processing time for training-session-2023-05-20-7647358997-8f71aff4-55cb-4882-8a60-aedfa956d72c.json: 66.18 seconds\n",
      "Processing file: training-session-2021-11-27-6783017069-474d98a7-b85b-40c2-934e-eaeaa48340e7.json\n"
     ]
    },
    {
     "name": "stderr",
     "output_type": "stream",
     "text": [
      " 48%|████▊     | 707/1468 [1:00:30<1:38:10,  7.74s/it]"
     ]
    },
    {
     "name": "stdout",
     "output_type": "stream",
     "text": [
      "Saved processed data to: /home/eaguayo/workspace/ml-project/data/long-tr-data/training-session-2021-11-27-6783017069-474d98a7-b85b-40c2-934e-eaeaa48340e7.csv\n",
      "Processing time for training-session-2021-11-27-6783017069-474d98a7-b85b-40c2-934e-eaeaa48340e7.json: 29.17 seconds\n",
      "Processing file: training-session-2023-09-01-7718305337-7038a29e-a3f1-4410-8e83-123b823d73bd.json\n"
     ]
    },
    {
     "name": "stderr",
     "output_type": "stream",
     "text": [
      " 49%|████▉     | 721/1468 [1:01:00<46:11,  3.71s/it]  "
     ]
    },
    {
     "name": "stdout",
     "output_type": "stream",
     "text": [
      "An unexpected error occurred in file: training-session-2023-09-01-7718305337-7038a29e-a3f1-4410-8e83-123b823d73bd.json with error 'value'\n"
     ]
    },
    {
     "name": "stderr",
     "output_type": "stream",
     "text": [
      " 50%|████▉     | 730/1468 [1:01:00<26:46,  2.18s/it]"
     ]
    },
    {
     "name": "stdout",
     "output_type": "stream",
     "text": [
      "Processing file: training-session-2023-07-30-7697425704-784dc37a-a9a0-4852-911e-8cb5e08cd914.json\n"
     ]
    },
    {
     "name": "stderr",
     "output_type": "stream",
     "text": [
      " 50%|█████     | 741/1468 [1:02:19<47:10,  3.89s/it]  "
     ]
    },
    {
     "name": "stdout",
     "output_type": "stream",
     "text": [
      "Saved processed data to: /home/eaguayo/workspace/ml-project/data/long-tr-data/training-session-2023-07-30-7697425704-784dc37a-a9a0-4852-911e-8cb5e08cd914.csv\n",
      "Processing time for training-session-2023-07-30-7697425704-784dc37a-a9a0-4852-911e-8cb5e08cd914.json: 78.52 seconds\n"
     ]
    },
    {
     "name": "stderr",
     "output_type": "stream",
     "text": [
      " 52%|█████▏    | 758/1468 [1:02:19<18:39,  1.58s/it]"
     ]
    },
    {
     "name": "stdout",
     "output_type": "stream",
     "text": [
      "Processing file: training-session-2022-08-03-7480303180-6c37b7c6-91c7-43b9-ba82-635ab48a73d0.json\n"
     ]
    },
    {
     "name": "stderr",
     "output_type": "stream",
     "text": [
      " 52%|█████▏    | 759/1468 [1:02:49<37:14,  3.15s/it]"
     ]
    },
    {
     "name": "stdout",
     "output_type": "stream",
     "text": [
      "Saved processed data to: /home/eaguayo/workspace/ml-project/data/long-tr-data/training-session-2022-08-03-7480303180-6c37b7c6-91c7-43b9-ba82-635ab48a73d0.csv\n",
      "Processing time for training-session-2022-08-03-7480303180-6c37b7c6-91c7-43b9-ba82-635ab48a73d0.json: 30.05 seconds\n",
      "Processing file: training-session-2024-06-08-7896660647-9094a290-b673-494f-a417-150c553f3755.json\n"
     ]
    },
    {
     "name": "stderr",
     "output_type": "stream",
     "text": [
      " 52%|█████▏    | 766/1468 [1:03:54<57:26,  4.91s/it]  "
     ]
    },
    {
     "name": "stdout",
     "output_type": "stream",
     "text": [
      "Saved processed data to: /home/eaguayo/workspace/ml-project/data/long-tr-data/training-session-2024-06-08-7896660647-9094a290-b673-494f-a417-150c553f3755.csv\n",
      "Processing time for training-session-2024-06-08-7896660647-9094a290-b673-494f-a417-150c553f3755.json: 64.72 seconds\n",
      "Processing file: training-session-2021-07-24-6308081704-9e72cd75-af84-42af-b9cf-97888b9eac90.json\n"
     ]
    },
    {
     "name": "stderr",
     "output_type": "stream",
     "text": [
      " 53%|█████▎    | 771/1468 [1:07:25<3:17:01, 16.96s/it]"
     ]
    },
    {
     "name": "stdout",
     "output_type": "stream",
     "text": [
      "Saved processed data to: /home/eaguayo/workspace/ml-project/data/long-tr-data/training-session-2021-07-24-6308081704-9e72cd75-af84-42af-b9cf-97888b9eac90.csv\n",
      "Processing time for training-session-2021-07-24-6308081704-9e72cd75-af84-42af-b9cf-97888b9eac90.json: 210.57 seconds\n",
      "Processing file: training-session-2025-03-28-8083709660-dcd72912-9628-4fbe-82d1-12ec7796237a.json\n"
     ]
    },
    {
     "name": "stderr",
     "output_type": "stream",
     "text": [
      " 53%|█████▎    | 783/1468 [1:08:00<1:35:08,  8.33s/it]"
     ]
    },
    {
     "name": "stdout",
     "output_type": "stream",
     "text": [
      "Saved processed data to: /home/eaguayo/workspace/ml-project/data/long-tr-data/training-session-2025-03-28-8083709660-dcd72912-9628-4fbe-82d1-12ec7796237a.csv\n",
      "Processing time for training-session-2025-03-28-8083709660-dcd72912-9628-4fbe-82d1-12ec7796237a.json: 34.79 seconds\n",
      "Processing file: training-session-2023-06-17-7666860960-70a6502e-c69d-46b4-8b6a-06e49a33d960.json\n"
     ]
    },
    {
     "name": "stderr",
     "output_type": "stream",
     "text": [
      " 54%|█████▍    | 792/1468 [1:08:36<1:03:44,  5.66s/it]"
     ]
    },
    {
     "name": "stdout",
     "output_type": "stream",
     "text": [
      "Saved processed data to: /home/eaguayo/workspace/ml-project/data/long-tr-data/training-session-2023-06-17-7666860960-70a6502e-c69d-46b4-8b6a-06e49a33d960.csv\n",
      "Processing time for training-session-2023-06-17-7666860960-70a6502e-c69d-46b4-8b6a-06e49a33d960.json: 35.64 seconds\n",
      "Processing file: training-session-2025-02-25-8061276512-5f1e505e-faa9-446e-baca-0af78f90e6b7.json\n"
     ]
    },
    {
     "name": "stderr",
     "output_type": "stream",
     "text": [
      " 54%|█████▍    | 799/1468 [1:09:09<59:02,  5.29s/it]  "
     ]
    },
    {
     "name": "stdout",
     "output_type": "stream",
     "text": [
      "Saved processed data to: /home/eaguayo/workspace/ml-project/data/long-tr-data/training-session-2025-02-25-8061276512-5f1e505e-faa9-446e-baca-0af78f90e6b7.csv\n",
      "Processing time for training-session-2025-02-25-8061276512-5f1e505e-faa9-446e-baca-0af78f90e6b7.json: 32.43 seconds\n",
      "Processing file: training-session-2022-10-15-7505257763-f48a19bf-cc9e-467e-861b-9cf02e913978.json\n"
     ]
    },
    {
     "name": "stderr",
     "output_type": "stream",
     "text": [
      " 55%|█████▍    | 802/1468 [1:09:47<1:13:28,  6.62s/it]"
     ]
    },
    {
     "name": "stdout",
     "output_type": "stream",
     "text": [
      "Saved processed data to: /home/eaguayo/workspace/ml-project/data/long-tr-data/training-session-2022-10-15-7505257763-f48a19bf-cc9e-467e-861b-9cf02e913978.csv\n",
      "Processing time for training-session-2022-10-15-7505257763-f48a19bf-cc9e-467e-861b-9cf02e913978.json: 37.74 seconds\n",
      "Processing file: training-session-2024-08-30-7952350890-09a1a11b-7949-4608-928c-3d1de69a44a4.json\n"
     ]
    },
    {
     "name": "stderr",
     "output_type": "stream",
     "text": [
      " 55%|█████▍    | 807/1468 [1:11:49<1:59:53, 10.88s/it]"
     ]
    },
    {
     "name": "stdout",
     "output_type": "stream",
     "text": [
      "Saved processed data to: /home/eaguayo/workspace/ml-project/data/long-tr-data/training-session-2024-08-30-7952350890-09a1a11b-7949-4608-928c-3d1de69a44a4.csv\n",
      "Processing time for training-session-2024-08-30-7952350890-09a1a11b-7949-4608-928c-3d1de69a44a4.json: 122.06 seconds\n",
      "Processing file: training-session-2024-03-16-7840523977-02fc8f1f-9baf-4558-89bd-9f5c8a037e06.json\n"
     ]
    },
    {
     "name": "stderr",
     "output_type": "stream",
     "text": [
      " 56%|█████▌    | 817/1468 [1:12:17<1:06:01,  6.08s/it]"
     ]
    },
    {
     "name": "stdout",
     "output_type": "stream",
     "text": [
      "Saved processed data to: /home/eaguayo/workspace/ml-project/data/long-tr-data/training-session-2024-03-16-7840523977-02fc8f1f-9baf-4558-89bd-9f5c8a037e06.csv\n",
      "Processing time for training-session-2024-03-16-7840523977-02fc8f1f-9baf-4558-89bd-9f5c8a037e06.json: 27.83 seconds\n"
     ]
    },
    {
     "name": "stderr",
     "output_type": "stream",
     "text": [
      " 56%|█████▋    | 826/1468 [1:12:17<34:33,  3.23s/it]  "
     ]
    },
    {
     "name": "stdout",
     "output_type": "stream",
     "text": [
      "Processing file: training-session-2022-05-29-7424440452-016cfdcd-6c05-4cfa-91ad-978132d7b389.json\n"
     ]
    },
    {
     "name": "stderr",
     "output_type": "stream",
     "text": [
      " 57%|█████▋    | 831/1468 [1:12:47<39:30,  3.72s/it]"
     ]
    },
    {
     "name": "stdout",
     "output_type": "stream",
     "text": [
      "Saved processed data to: /home/eaguayo/workspace/ml-project/data/long-tr-data/training-session-2022-05-29-7424440452-016cfdcd-6c05-4cfa-91ad-978132d7b389.csv\n",
      "Processing time for training-session-2022-05-29-7424440452-016cfdcd-6c05-4cfa-91ad-978132d7b389.json: 29.76 seconds\n",
      "Processing file: training-session-2025-03-16-8073715633-14e5bad2-2106-4d13-a200-5643db7c17e1.json\n"
     ]
    },
    {
     "name": "stderr",
     "output_type": "stream",
     "text": [
      " 57%|█████▋    | 837/1468 [1:13:37<57:38,  5.48s/it]"
     ]
    },
    {
     "name": "stdout",
     "output_type": "stream",
     "text": [
      "Saved processed data to: /home/eaguayo/workspace/ml-project/data/long-tr-data/training-session-2025-03-16-8073715633-14e5bad2-2106-4d13-a200-5643db7c17e1.csv\n",
      "Processing time for training-session-2025-03-16-8073715633-14e5bad2-2106-4d13-a200-5643db7c17e1.json: 49.65 seconds\n",
      "Processing file: training-session-2021-03-20-5811768059-98acbc6e-9f8c-4f45-861c-6ca4325c1d13.json\n"
     ]
    },
    {
     "name": "stderr",
     "output_type": "stream",
     "text": [
      " 57%|█████▋    | 839/1468 [1:13:43<53:36,  5.11s/it]"
     ]
    },
    {
     "name": "stdout",
     "output_type": "stream",
     "text": [
      "An unexpected error occurred in file: training-session-2021-03-20-5811768059-98acbc6e-9f8c-4f45-861c-6ca4325c1d13.json with error 'value'\n",
      "Processing file: training-session-2023-03-11-7600021758-87f3d528-4241-43dc-b2cd-35084afaa8e9.json\n"
     ]
    },
    {
     "name": "stderr",
     "output_type": "stream",
     "text": [
      " 58%|█████▊    | 853/1468 [1:14:28<34:11,  3.34s/it]  "
     ]
    },
    {
     "name": "stdout",
     "output_type": "stream",
     "text": [
      "Saved processed data to: /home/eaguayo/workspace/ml-project/data/long-tr-data/training-session-2023-03-11-7600021758-87f3d528-4241-43dc-b2cd-35084afaa8e9.csv\n",
      "Processing time for training-session-2023-03-11-7600021758-87f3d528-4241-43dc-b2cd-35084afaa8e9.json: 44.56 seconds\n",
      "Processing file: training-session-2024-09-28-7974438807-a23d9763-c6f3-46f7-a9d4-ad526d58d07b.json\n"
     ]
    },
    {
     "name": "stderr",
     "output_type": "stream",
     "text": [
      " 58%|█████▊    | 854/1468 [1:15:20<1:08:14,  6.67s/it]"
     ]
    },
    {
     "name": "stdout",
     "output_type": "stream",
     "text": [
      "Saved processed data to: /home/eaguayo/workspace/ml-project/data/long-tr-data/training-session-2024-09-28-7974438807-a23d9763-c6f3-46f7-a9d4-ad526d58d07b.csv\n",
      "Processing time for training-session-2024-09-28-7974438807-a23d9763-c6f3-46f7-a9d4-ad526d58d07b.json: 51.23 seconds\n",
      "Processing file: training-session-2024-03-31-7850841174-7d6f85c7-f5ab-495f-9d4f-8e7de8b5ff36.json\n"
     ]
    },
    {
     "name": "stderr",
     "output_type": "stream",
     "text": [
      " 59%|█████▊    | 859/1468 [1:15:48<58:01,  5.72s/it]  "
     ]
    },
    {
     "name": "stdout",
     "output_type": "stream",
     "text": [
      "Saved processed data to: /home/eaguayo/workspace/ml-project/data/long-tr-data/training-session-2024-03-31-7850841174-7d6f85c7-f5ab-495f-9d4f-8e7de8b5ff36.csv\n",
      "Processing time for training-session-2024-03-31-7850841174-7d6f85c7-f5ab-495f-9d4f-8e7de8b5ff36.json: 28.55 seconds\n"
     ]
    },
    {
     "name": "stderr",
     "output_type": "stream",
     "text": [
      " 59%|█████▉    | 870/1468 [1:15:49<21:38,  2.17s/it]"
     ]
    },
    {
     "name": "stdout",
     "output_type": "stream",
     "text": [
      "Processing file: training-session-2024-03-02-7832218068-cf227dd5-c92e-496f-b4b0-ce0dc46c7982.json\n"
     ]
    },
    {
     "name": "stderr",
     "output_type": "stream",
     "text": [
      " 60%|█████▉    | 877/1468 [1:16:56<46:56,  4.77s/it]  "
     ]
    },
    {
     "name": "stdout",
     "output_type": "stream",
     "text": [
      "Saved processed data to: /home/eaguayo/workspace/ml-project/data/long-tr-data/training-session-2024-03-02-7832218068-cf227dd5-c92e-496f-b4b0-ce0dc46c7982.csv\n",
      "Processing time for training-session-2024-03-02-7832218068-cf227dd5-c92e-496f-b4b0-ce0dc46c7982.json: 66.83 seconds\n",
      "Processing file: training-session-2021-10-09-6607878399-e5cccae1-382e-428f-b6e6-d4d250ba5a84.json\n"
     ]
    },
    {
     "name": "stderr",
     "output_type": "stream",
     "text": [
      " 60%|██████    | 885/1468 [1:17:32<45:00,  4.63s/it]"
     ]
    },
    {
     "name": "stdout",
     "output_type": "stream",
     "text": [
      "Saved processed data to: /home/eaguayo/workspace/ml-project/data/long-tr-data/training-session-2021-10-09-6607878399-e5cccae1-382e-428f-b6e6-d4d250ba5a84.csv\n",
      "Processing time for training-session-2021-10-09-6607878399-e5cccae1-382e-428f-b6e6-d4d250ba5a84.json: 35.67 seconds\n",
      "Processing file: training-session-2023-02-25-7592316178-75014616-9228-4e48-b234-d96b73860b90.json\n"
     ]
    },
    {
     "name": "stderr",
     "output_type": "stream",
     "text": [
      " 61%|██████    | 895/1468 [1:18:33<44:07,  4.62s/it]  "
     ]
    },
    {
     "name": "stdout",
     "output_type": "stream",
     "text": [
      "Saved processed data to: /home/eaguayo/workspace/ml-project/data/long-tr-data/training-session-2023-02-25-7592316178-75014616-9228-4e48-b234-d96b73860b90.csv\n",
      "Processing time for training-session-2023-02-25-7592316178-75014616-9228-4e48-b234-d96b73860b90.json: 61.60 seconds\n"
     ]
    },
    {
     "name": "stderr",
     "output_type": "stream",
     "text": [
      " 62%|██████▏   | 917/1468 [1:18:34<11:48,  1.29s/it]"
     ]
    },
    {
     "name": "stdout",
     "output_type": "stream",
     "text": [
      "Processing file: training-session-2023-12-16-7782445396-d14b11e8-ce72-425f-8436-075da036a8b1.json\n"
     ]
    },
    {
     "name": "stderr",
     "output_type": "stream",
     "text": [
      " 63%|██████▎   | 921/1468 [1:19:06<24:32,  2.69s/it]"
     ]
    },
    {
     "name": "stdout",
     "output_type": "stream",
     "text": [
      "Saved processed data to: /home/eaguayo/workspace/ml-project/data/long-tr-data/training-session-2023-12-16-7782445396-d14b11e8-ce72-425f-8436-075da036a8b1.csv\n",
      "Processing time for training-session-2023-12-16-7782445396-d14b11e8-ce72-425f-8436-075da036a8b1.json: 32.59 seconds\n",
      "Processing file: training-session-2022-03-26-7156278815-3dedf4af-cc40-447d-a2a1-ac2d3820ca96.json\n"
     ]
    },
    {
     "name": "stderr",
     "output_type": "stream",
     "text": [
      " 63%|██████▎   | 924/1468 [1:19:36<36:01,  3.97s/it]"
     ]
    },
    {
     "name": "stdout",
     "output_type": "stream",
     "text": [
      "Saved processed data to: /home/eaguayo/workspace/ml-project/data/long-tr-data/training-session-2022-03-26-7156278815-3dedf4af-cc40-447d-a2a1-ac2d3820ca96.csv\n",
      "Processing time for training-session-2022-03-26-7156278815-3dedf4af-cc40-447d-a2a1-ac2d3820ca96.json: 29.39 seconds\n",
      "Processing file: training-session-2025-02-09-8052494756-5a91316a-f951-4a14-879a-45de781ac415.json\n"
     ]
    },
    {
     "name": "stderr",
     "output_type": "stream",
     "text": [
      " 63%|██████▎   | 932/1468 [1:20:10<36:33,  4.09s/it]"
     ]
    },
    {
     "name": "stdout",
     "output_type": "stream",
     "text": [
      "Saved processed data to: /home/eaguayo/workspace/ml-project/data/long-tr-data/training-session-2025-02-09-8052494756-5a91316a-f951-4a14-879a-45de781ac415.csv\n",
      "Processing time for training-session-2025-02-09-8052494756-5a91316a-f951-4a14-879a-45de781ac415.json: 33.95 seconds\n",
      "Processing file: training-session-2022-10-29-7519574710-b6cf0ee4-1274-417f-a1f3-e1bd9d33fd13.json\n"
     ]
    },
    {
     "name": "stderr",
     "output_type": "stream",
     "text": [
      " 65%|██████▍   | 950/1468 [1:22:58<54:26,  6.31s/it]  "
     ]
    },
    {
     "name": "stdout",
     "output_type": "stream",
     "text": [
      "Saved processed data to: /home/eaguayo/workspace/ml-project/data/long-tr-data/training-session-2022-10-29-7519574710-b6cf0ee4-1274-417f-a1f3-e1bd9d33fd13.csv\n",
      "Processing time for training-session-2022-10-29-7519574710-b6cf0ee4-1274-417f-a1f3-e1bd9d33fd13.json: 167.59 seconds\n",
      "Processing file: training-session-2021-03-13-5782963264-512d2c5a-a2a3-48dc-ad0f-2fbbc3d96436.json\n"
     ]
    },
    {
     "name": "stderr",
     "output_type": "stream",
     "text": [
      " 65%|██████▍   | 951/1468 [1:23:33<1:07:32,  7.84s/it]"
     ]
    },
    {
     "name": "stdout",
     "output_type": "stream",
     "text": [
      "Saved processed data to: /home/eaguayo/workspace/ml-project/data/long-tr-data/training-session-2021-03-13-5782963264-512d2c5a-a2a3-48dc-ad0f-2fbbc3d96436.csv\n",
      "Processing time for training-session-2021-03-13-5782963264-512d2c5a-a2a3-48dc-ad0f-2fbbc3d96436.json: 34.52 seconds\n",
      "Processing file: training-session-2024-03-24-7844780046-59055c6a-e541-454d-94fb-35e7b3ae8222.json\n"
     ]
    },
    {
     "name": "stderr",
     "output_type": "stream",
     "text": [
      " 65%|██████▌   | 960/1468 [1:24:02<44:11,  5.22s/it]  "
     ]
    },
    {
     "name": "stdout",
     "output_type": "stream",
     "text": [
      "Saved processed data to: /home/eaguayo/workspace/ml-project/data/long-tr-data/training-session-2024-03-24-7844780046-59055c6a-e541-454d-94fb-35e7b3ae8222.csv\n",
      "Processing time for training-session-2024-03-24-7844780046-59055c6a-e541-454d-94fb-35e7b3ae8222.json: 28.55 seconds\n",
      "Processing file: training-session-2022-04-14-7268590280-6e386857-54fc-48df-bb4e-531fec4fa7b2.json\n"
     ]
    },
    {
     "name": "stderr",
     "output_type": "stream",
     "text": [
      " 66%|██████▌   | 972/1468 [1:24:16<24:10,  2.92s/it]"
     ]
    },
    {
     "name": "stdout",
     "output_type": "stream",
     "text": [
      "An unexpected error occurred in file: training-session-2022-04-14-7268590280-6e386857-54fc-48df-bb4e-531fec4fa7b2.json with error 'value'\n"
     ]
    },
    {
     "name": "stderr",
     "output_type": "stream",
     "text": [
      " 67%|██████▋   | 980/1468 [1:24:16<14:49,  1.82s/it]"
     ]
    },
    {
     "name": "stdout",
     "output_type": "stream",
     "text": [
      "Processing file: training-session-2021-10-23-6634715264-297bbbcf-658f-4485-b9a0-cce0ced3795c.json\n"
     ]
    },
    {
     "name": "stderr",
     "output_type": "stream",
     "text": [
      " 67%|██████▋   | 984/1468 [1:25:14<34:44,  4.31s/it]"
     ]
    },
    {
     "name": "stdout",
     "output_type": "stream",
     "text": [
      "Saved processed data to: /home/eaguayo/workspace/ml-project/data/long-tr-data/training-session-2021-10-23-6634715264-297bbbcf-658f-4485-b9a0-cce0ced3795c.csv\n",
      "Processing time for training-session-2021-10-23-6634715264-297bbbcf-658f-4485-b9a0-cce0ced3795c.json: 57.28 seconds\n"
     ]
    },
    {
     "name": "stderr",
     "output_type": "stream",
     "text": [
      " 68%|██████▊   | 994/1468 [1:25:14<15:12,  1.93s/it]"
     ]
    },
    {
     "name": "stdout",
     "output_type": "stream",
     "text": [
      "Processing file: training-session-2022-01-15-6949412924-5d3c6486-4549-4c7a-8af9-f91043c0383b.json\n"
     ]
    },
    {
     "name": "stderr",
     "output_type": "stream",
     "text": [
      " 68%|██████▊   | 1005/1468 [1:25:48<17:10,  2.23s/it]"
     ]
    },
    {
     "name": "stdout",
     "output_type": "stream",
     "text": [
      "An unexpected error occurred in file: training-session-2022-01-15-6949412924-5d3c6486-4549-4c7a-8af9-f91043c0383b.json with error 'value'\n",
      "Processing file: training-session-2022-04-23-7268587990-60b7e19a-e065-4801-a9ba-3ae84d6c0f26.json\n"
     ]
    },
    {
     "name": "stderr",
     "output_type": "stream",
     "text": [
      " 69%|██████▉   | 1014/1468 [1:26:20<18:37,  2.46s/it]"
     ]
    },
    {
     "name": "stdout",
     "output_type": "stream",
     "text": [
      "Saved processed data to: /home/eaguayo/workspace/ml-project/data/long-tr-data/training-session-2022-04-23-7268587990-60b7e19a-e065-4801-a9ba-3ae84d6c0f26.csv\n",
      "Processing time for training-session-2022-04-23-7268587990-60b7e19a-e065-4801-a9ba-3ae84d6c0f26.json: 32.11 seconds\n",
      "Processing file: training-session-2023-05-07-7639018843-7b192a98-c4e3-405a-84ee-bfb831f97086.json\n"
     ]
    },
    {
     "name": "stderr",
     "output_type": "stream",
     "text": [
      " 69%|██████▉   | 1020/1468 [1:26:55<27:07,  3.63s/it]"
     ]
    },
    {
     "name": "stdout",
     "output_type": "stream",
     "text": [
      "Saved processed data to: /home/eaguayo/workspace/ml-project/data/long-tr-data/training-session-2023-05-07-7639018843-7b192a98-c4e3-405a-84ee-bfb831f97086.csv\n",
      "Processing time for training-session-2023-05-07-7639018843-7b192a98-c4e3-405a-84ee-bfb831f97086.json: 35.34 seconds\n",
      "Processing file: training-session-2023-07-08-7681313969-90da63c3-01ff-4fd4-99eb-da998e8e6387.json\n"
     ]
    },
    {
     "name": "stderr",
     "output_type": "stream",
     "text": [
      " 70%|██████▉   | 1023/1468 [1:27:26<36:28,  4.92s/it]"
     ]
    },
    {
     "name": "stdout",
     "output_type": "stream",
     "text": [
      "Saved processed data to: /home/eaguayo/workspace/ml-project/data/long-tr-data/training-session-2023-07-08-7681313969-90da63c3-01ff-4fd4-99eb-da998e8e6387.csv\n",
      "Processing time for training-session-2023-07-08-7681313969-90da63c3-01ff-4fd4-99eb-da998e8e6387.json: 30.58 seconds\n",
      "Processing file: training-session-2024-07-13-7919240507-8964418b-b0d0-464f-be54-154f893a8040.json\n"
     ]
    },
    {
     "name": "stderr",
     "output_type": "stream",
     "text": [
      " 70%|██████▉   | 1025/1468 [1:27:27<30:55,  4.19s/it]"
     ]
    },
    {
     "name": "stdout",
     "output_type": "stream",
     "text": [
      "An unexpected error occurred in file: training-session-2024-07-13-7919240507-8964418b-b0d0-464f-be54-154f893a8040.json with error 'value'\n",
      "Processing file: training-session-2024-03-23-7844780578-e50f463a-4a53-4184-9273-1d9c26a48851.json\n"
     ]
    },
    {
     "name": "stderr",
     "output_type": "stream",
     "text": [
      " 70%|███████   | 1033/1468 [1:28:19<38:22,  5.29s/it]"
     ]
    },
    {
     "name": "stdout",
     "output_type": "stream",
     "text": [
      "Saved processed data to: /home/eaguayo/workspace/ml-project/data/long-tr-data/training-session-2024-03-23-7844780578-e50f463a-4a53-4184-9273-1d9c26a48851.csv\n",
      "Processing time for training-session-2024-03-23-7844780578-e50f463a-4a53-4184-9273-1d9c26a48851.json: 52.04 seconds\n",
      "Processing file: training-session-2022-10-09-7505258353-7aedb175-f1ed-4fef-901a-28a42412fb50.json\n"
     ]
    },
    {
     "name": "stderr",
     "output_type": "stream",
     "text": [
      " 71%|███████   | 1038/1468 [1:29:16<46:27,  6.48s/it]  "
     ]
    },
    {
     "name": "stdout",
     "output_type": "stream",
     "text": [
      "Saved processed data to: /home/eaguayo/workspace/ml-project/data/long-tr-data/training-session-2022-10-09-7505258353-7aedb175-f1ed-4fef-901a-28a42412fb50.csv\n",
      "Processing time for training-session-2022-10-09-7505258353-7aedb175-f1ed-4fef-901a-28a42412fb50.json: 57.33 seconds\n"
     ]
    },
    {
     "name": "stderr",
     "output_type": "stream",
     "text": [
      " 71%|███████   | 1043/1468 [1:29:17<29:41,  4.19s/it]"
     ]
    },
    {
     "name": "stdout",
     "output_type": "stream",
     "text": [
      "Processing file: training-session-2023-10-07-7741569983-d1b5970a-663a-4fc4-b9e5-0b8d7dcf3783.json\n"
     ]
    },
    {
     "name": "stderr",
     "output_type": "stream",
     "text": [
      " 72%|███████▏  | 1054/1468 [1:30:33<39:04,  5.66s/it]"
     ]
    },
    {
     "name": "stdout",
     "output_type": "stream",
     "text": [
      "Saved processed data to: /home/eaguayo/workspace/ml-project/data/long-tr-data/training-session-2023-10-07-7741569983-d1b5970a-663a-4fc4-b9e5-0b8d7dcf3783.csv\n",
      "Processing time for training-session-2023-10-07-7741569983-d1b5970a-663a-4fc4-b9e5-0b8d7dcf3783.json: 76.56 seconds\n",
      "Processing file: training-session-2024-10-13-7981456075-6d523aea-8a40-42c6-b753-279a83e57eb5.json\n"
     ]
    },
    {
     "name": "stderr",
     "output_type": "stream",
     "text": [
      " 73%|███████▎  | 1067/1468 [1:31:06<24:55,  3.73s/it]"
     ]
    },
    {
     "name": "stdout",
     "output_type": "stream",
     "text": [
      "Saved processed data to: /home/eaguayo/workspace/ml-project/data/long-tr-data/training-session-2024-10-13-7981456075-6d523aea-8a40-42c6-b753-279a83e57eb5.csv\n",
      "Processing time for training-session-2024-10-13-7981456075-6d523aea-8a40-42c6-b753-279a83e57eb5.json: 32.77 seconds\n"
     ]
    },
    {
     "name": "stderr",
     "output_type": "stream",
     "text": [
      " 73%|███████▎  | 1075/1468 [1:31:07<16:02,  2.45s/it]"
     ]
    },
    {
     "name": "stdout",
     "output_type": "stream",
     "text": [
      "Processing file: training-session-2024-01-13-7799283570-16dd1179-6e27-4897-b7d1-7307aab2865b.json\n"
     ]
    },
    {
     "name": "stderr",
     "output_type": "stream",
     "text": [
      " 74%|███████▍  | 1085/1468 [1:31:42<17:14,  2.70s/it]"
     ]
    },
    {
     "name": "stdout",
     "output_type": "stream",
     "text": [
      "Saved processed data to: /home/eaguayo/workspace/ml-project/data/long-tr-data/training-session-2024-01-13-7799283570-16dd1179-6e27-4897-b7d1-7307aab2865b.csv\n",
      "Processing time for training-session-2024-01-13-7799283570-16dd1179-6e27-4897-b7d1-7307aab2865b.json: 35.48 seconds\n",
      "Processing file: training-session-2023-03-19-7606602868-04dc976b-02ac-4e4b-9dc2-d3e7f4d9da4a.json\n"
     ]
    },
    {
     "name": "stderr",
     "output_type": "stream",
     "text": [
      " 75%|███████▍  | 1097/1468 [1:32:19<15:55,  2.58s/it]"
     ]
    },
    {
     "name": "stdout",
     "output_type": "stream",
     "text": [
      "Saved processed data to: /home/eaguayo/workspace/ml-project/data/long-tr-data/training-session-2023-03-19-7606602868-04dc976b-02ac-4e4b-9dc2-d3e7f4d9da4a.csv\n",
      "Processing time for training-session-2023-03-19-7606602868-04dc976b-02ac-4e4b-9dc2-d3e7f4d9da4a.json: 36.49 seconds\n",
      "Processing file: training-session-2023-01-29-7570546626-272388bf-6090-44b4-af4b-fbc114758c62.json\n"
     ]
    },
    {
     "name": "stderr",
     "output_type": "stream",
     "text": [
      " 75%|███████▌  | 1105/1468 [1:33:10<21:28,  3.55s/it]"
     ]
    },
    {
     "name": "stdout",
     "output_type": "stream",
     "text": [
      "Saved processed data to: /home/eaguayo/workspace/ml-project/data/long-tr-data/training-session-2023-01-29-7570546626-272388bf-6090-44b4-af4b-fbc114758c62.csv\n",
      "Processing time for training-session-2023-01-29-7570546626-272388bf-6090-44b4-af4b-fbc114758c62.json: 50.90 seconds\n"
     ]
    },
    {
     "name": "stderr",
     "output_type": "stream",
     "text": [
      " 76%|███████▌  | 1113/1468 [1:33:10<12:40,  2.14s/it]"
     ]
    },
    {
     "name": "stdout",
     "output_type": "stream",
     "text": [
      "Processing file: training-session-2022-02-09-7003933264-ddf08181-abd9-4449-a7d8-292edc84c40f.json\n"
     ]
    },
    {
     "name": "stderr",
     "output_type": "stream",
     "text": [
      " 77%|███████▋  | 1124/1468 [1:33:46<13:57,  2.43s/it]"
     ]
    },
    {
     "name": "stdout",
     "output_type": "stream",
     "text": [
      "Saved processed data to: /home/eaguayo/workspace/ml-project/data/long-tr-data/training-session-2022-02-09-7003933264-ddf08181-abd9-4449-a7d8-292edc84c40f.csv\n",
      "Processing time for training-session-2022-02-09-7003933264-ddf08181-abd9-4449-a7d8-292edc84c40f.json: 35.69 seconds\n"
     ]
    },
    {
     "name": "stderr",
     "output_type": "stream",
     "text": [
      " 77%|███████▋  | 1134/1468 [1:33:47<07:08,  1.28s/it]"
     ]
    },
    {
     "name": "stdout",
     "output_type": "stream",
     "text": [
      "Processing file: training-session-2023-12-09-7779095818-4441646e-0cbe-438d-a9ba-db1e567ea911.json\n"
     ]
    },
    {
     "name": "stderr",
     "output_type": "stream",
     "text": [
      " 78%|███████▊  | 1138/1468 [1:34:15<14:50,  2.70s/it]"
     ]
    },
    {
     "name": "stdout",
     "output_type": "stream",
     "text": [
      "Saved processed data to: /home/eaguayo/workspace/ml-project/data/long-tr-data/training-session-2023-12-09-7779095818-4441646e-0cbe-438d-a9ba-db1e567ea911.csv\n",
      "Processing time for training-session-2023-12-09-7779095818-4441646e-0cbe-438d-a9ba-db1e567ea911.json: 28.36 seconds\n",
      "Processing file: training-session-2024-12-28-8023739037-45745289-2bf8-4865-967b-b071ed1b4644.json\n"
     ]
    },
    {
     "name": "stderr",
     "output_type": "stream",
     "text": [
      " 78%|███████▊  | 1140/1468 [1:34:49<25:34,  4.68s/it]"
     ]
    },
    {
     "name": "stdout",
     "output_type": "stream",
     "text": [
      "Saved processed data to: /home/eaguayo/workspace/ml-project/data/long-tr-data/training-session-2024-12-28-8023739037-45745289-2bf8-4865-967b-b071ed1b4644.csv\n",
      "Processing time for training-session-2024-12-28-8023739037-45745289-2bf8-4865-967b-b071ed1b4644.json: 33.90 seconds\n"
     ]
    },
    {
     "name": "stderr",
     "output_type": "stream",
     "text": [
      " 79%|███████▉  | 1161/1468 [1:34:50<03:54,  1.31it/s]"
     ]
    },
    {
     "name": "stdout",
     "output_type": "stream",
     "text": [
      "Processing file: training-session-2021-06-06-6126334489-db6b4a77-bef5-449c-82e5-fd41760ada48.json\n"
     ]
    },
    {
     "name": "stderr",
     "output_type": "stream",
     "text": [
      " 80%|███████▉  | 1168/1468 [1:35:29<10:41,  2.14s/it]"
     ]
    },
    {
     "name": "stdout",
     "output_type": "stream",
     "text": [
      "Saved processed data to: /home/eaguayo/workspace/ml-project/data/long-tr-data/training-session-2021-06-06-6126334489-db6b4a77-bef5-449c-82e5-fd41760ada48.csv\n",
      "Processing time for training-session-2021-06-06-6126334489-db6b4a77-bef5-449c-82e5-fd41760ada48.json: 39.28 seconds\n"
     ]
    },
    {
     "name": "stderr",
     "output_type": "stream",
     "text": [
      " 80%|███████▉  | 1174/1468 [1:35:29<06:56,  1.42s/it]"
     ]
    },
    {
     "name": "stdout",
     "output_type": "stream",
     "text": [
      "Processing file: training-session-2025-03-13-8071682142-0e6800df-ffe8-4344-a399-0e36467f6d6b.json\n"
     ]
    },
    {
     "name": "stderr",
     "output_type": "stream",
     "text": [
      " 80%|████████  | 1175/1468 [1:36:03<18:52,  3.86s/it]"
     ]
    },
    {
     "name": "stdout",
     "output_type": "stream",
     "text": [
      "Saved processed data to: /home/eaguayo/workspace/ml-project/data/long-tr-data/training-session-2025-03-13-8071682142-0e6800df-ffe8-4344-a399-0e36467f6d6b.csv\n",
      "Processing time for training-session-2025-03-13-8071682142-0e6800df-ffe8-4344-a399-0e36467f6d6b.json: 33.97 seconds\n",
      "Processing file: training-session-2023-07-16-7685052633-7593abff-4452-4d80-a7d4-d8bb51227915.json\n"
     ]
    },
    {
     "name": "stderr",
     "output_type": "stream",
     "text": [
      " 81%|████████  | 1182/1468 [1:37:05<25:46,  5.41s/it]"
     ]
    },
    {
     "name": "stdout",
     "output_type": "stream",
     "text": [
      "Saved processed data to: /home/eaguayo/workspace/ml-project/data/long-tr-data/training-session-2023-07-16-7685052633-7593abff-4452-4d80-a7d4-d8bb51227915.csv\n",
      "Processing time for training-session-2023-07-16-7685052633-7593abff-4452-4d80-a7d4-d8bb51227915.json: 61.20 seconds\n",
      "Processing file: training-session-2023-09-30-7739112520-83db84e4-f073-4c1f-9d95-facede9c501e.json\n"
     ]
    },
    {
     "name": "stderr",
     "output_type": "stream",
     "text": [
      " 81%|████████  | 1184/1468 [1:37:18<26:43,  5.65s/it]"
     ]
    },
    {
     "name": "stdout",
     "output_type": "stream",
     "text": [
      "An unexpected error occurred in file: training-session-2023-09-30-7739112520-83db84e4-f073-4c1f-9d95-facede9c501e.json with error 'value'\n",
      "Processing file: training-session-2025-03-01-8063894910-3798d23c-94c2-464d-b8b0-05a092cb6652.json\n"
     ]
    },
    {
     "name": "stderr",
     "output_type": "stream",
     "text": [
      " 81%|████████  | 1189/1468 [1:37:54<26:25,  5.68s/it]"
     ]
    },
    {
     "name": "stdout",
     "output_type": "stream",
     "text": [
      "Saved processed data to: /home/eaguayo/workspace/ml-project/data/long-tr-data/training-session-2025-03-01-8063894910-3798d23c-94c2-464d-b8b0-05a092cb6652.csv\n",
      "Processing time for training-session-2025-03-01-8063894910-3798d23c-94c2-464d-b8b0-05a092cb6652.json: 35.71 seconds\n"
     ]
    },
    {
     "name": "stderr",
     "output_type": "stream",
     "text": [
      " 81%|████████▏ | 1194/1468 [1:37:54<14:59,  3.28s/it]"
     ]
    },
    {
     "name": "stdout",
     "output_type": "stream",
     "text": [
      "Processing file: training-session-2023-06-04-7658775673-a0a3afde-2ee8-4b60-8dcf-bcb7a30c53e1.json\n"
     ]
    },
    {
     "name": "stderr",
     "output_type": "stream",
     "text": [
      " 81%|████████▏ | 1195/1468 [1:38:29<30:37,  6.73s/it]"
     ]
    },
    {
     "name": "stdout",
     "output_type": "stream",
     "text": [
      "Saved processed data to: /home/eaguayo/workspace/ml-project/data/long-tr-data/training-session-2023-06-04-7658775673-a0a3afde-2ee8-4b60-8dcf-bcb7a30c53e1.csv\n",
      "Processing time for training-session-2023-06-04-7658775673-a0a3afde-2ee8-4b60-8dcf-bcb7a30c53e1.json: 35.12 seconds\n",
      "Processing file: training-session-2025-01-05-8028336818-384d64a9-cb90-4ed2-ad58-15fd452a5a50.json\n"
     ]
    },
    {
     "name": "stderr",
     "output_type": "stream",
     "text": [
      " 82%|████████▏ | 1200/1468 [1:39:06<28:14,  6.32s/it]"
     ]
    },
    {
     "name": "stdout",
     "output_type": "stream",
     "text": [
      "Saved processed data to: /home/eaguayo/workspace/ml-project/data/long-tr-data/training-session-2025-01-05-8028336818-384d64a9-cb90-4ed2-ad58-15fd452a5a50.csv\n",
      "Processing time for training-session-2025-01-05-8028336818-384d64a9-cb90-4ed2-ad58-15fd452a5a50.json: 36.84 seconds\n",
      "Processing file: training-session-2022-03-12-7120464020-2fcd0b8a-6db5-4791-9827-5b8cd367e66d.json\n"
     ]
    },
    {
     "name": "stderr",
     "output_type": "stream",
     "text": [
      " 82%|████████▏ | 1210/1468 [1:39:22<12:33,  2.92s/it]"
     ]
    },
    {
     "name": "stdout",
     "output_type": "stream",
     "text": [
      "An unexpected error occurred in file: training-session-2022-03-12-7120464020-2fcd0b8a-6db5-4791-9827-5b8cd367e66d.json with error 'value'\n",
      "Processing file: training-session-2024-04-14-7860099393-a2150773-30f2-4ee6-8c9e-bec0a5f7d9f0.json\n"
     ]
    },
    {
     "name": "stderr",
     "output_type": "stream",
     "text": [
      " 83%|████████▎ | 1213/1468 [1:40:29<32:47,  7.72s/it]"
     ]
    },
    {
     "name": "stdout",
     "output_type": "stream",
     "text": [
      "Saved processed data to: /home/eaguayo/workspace/ml-project/data/long-tr-data/training-session-2024-04-14-7860099393-a2150773-30f2-4ee6-8c9e-bec0a5f7d9f0.csv\n",
      "Processing time for training-session-2024-04-14-7860099393-a2150773-30f2-4ee6-8c9e-bec0a5f7d9f0.json: 67.24 seconds\n",
      "Processing file: training-session-2023-04-15-7624795567-473ad4ff-f420-45fd-8691-990d794f60f0.json\n"
     ]
    },
    {
     "name": "stderr",
     "output_type": "stream",
     "text": [
      " 83%|████████▎ | 1221/1468 [1:42:49<48:46, 11.85s/it]"
     ]
    },
    {
     "name": "stdout",
     "output_type": "stream",
     "text": [
      "Saved processed data to: /home/eaguayo/workspace/ml-project/data/long-tr-data/training-session-2023-04-15-7624795567-473ad4ff-f420-45fd-8691-990d794f60f0.csv\n",
      "Processing time for training-session-2023-04-15-7624795567-473ad4ff-f420-45fd-8691-990d794f60f0.json: 139.79 seconds\n"
     ]
    },
    {
     "name": "stderr",
     "output_type": "stream",
     "text": [
      " 84%|████████▍ | 1234/1468 [1:42:50<15:34,  3.99s/it]"
     ]
    },
    {
     "name": "stdout",
     "output_type": "stream",
     "text": [
      "Processing file: training-session-2022-08-20-7480302102-bf69dc52-54f5-4440-be94-c72dd8770e0f.json\n"
     ]
    },
    {
     "name": "stderr",
     "output_type": "stream",
     "text": [
      " 85%|████████▍ | 1241/1468 [1:43:35<16:39,  4.40s/it]"
     ]
    },
    {
     "name": "stdout",
     "output_type": "stream",
     "text": [
      "Saved processed data to: /home/eaguayo/workspace/ml-project/data/long-tr-data/training-session-2022-08-20-7480302102-bf69dc52-54f5-4440-be94-c72dd8770e0f.csv\n",
      "Processing time for training-session-2022-08-20-7480302102-bf69dc52-54f5-4440-be94-c72dd8770e0f.json: 45.08 seconds\n"
     ]
    },
    {
     "name": "stderr",
     "output_type": "stream",
     "text": [
      " 85%|████████▍ | 1244/1468 [1:44:10<22:32,  6.04s/it]"
     ]
    },
    {
     "name": "stdout",
     "output_type": "stream",
     "text": [
      "Processing file: training-session-2025-03-09-8069229866-675a6a83-bd23-46ca-855a-58106d60ad86.json\n",
      "Saved processed data to: /home/eaguayo/workspace/ml-project/data/long-tr-data/training-session-2025-03-09-8069229866-675a6a83-bd23-46ca-855a-58106d60ad86.csv\n",
      "Processing time for training-session-2025-03-09-8069229866-675a6a83-bd23-46ca-855a-58106d60ad86.json: 35.29 seconds\n",
      "Processing file: training-session-2024-06-23-7906713266-fa36485b-7a14-4cd7-ad03-9de962ed4002.json\n"
     ]
    },
    {
     "name": "stderr",
     "output_type": "stream",
     "text": [
      " 85%|████████▌ | 1252/1468 [1:44:56<19:13,  5.34s/it]"
     ]
    },
    {
     "name": "stdout",
     "output_type": "stream",
     "text": [
      "Saved processed data to: /home/eaguayo/workspace/ml-project/data/long-tr-data/training-session-2024-06-23-7906713266-fa36485b-7a14-4cd7-ad03-9de962ed4002.csv\n",
      "Processing time for training-session-2024-06-23-7906713266-fa36485b-7a14-4cd7-ad03-9de962ed4002.json: 45.01 seconds\n"
     ]
    },
    {
     "name": "stderr",
     "output_type": "stream",
     "text": [
      " 86%|████████▌ | 1258/1468 [1:44:56<11:26,  3.27s/it]"
     ]
    },
    {
     "name": "stdout",
     "output_type": "stream",
     "text": [
      "Processing file: training-session-2021-10-30-6711248689-070d0b6e-35c4-424a-b142-f8044220e924.json\n"
     ]
    },
    {
     "name": "stderr",
     "output_type": "stream",
     "text": [
      " 86%|████████▌ | 1263/1468 [1:45:35<16:11,  4.74s/it]"
     ]
    },
    {
     "name": "stdout",
     "output_type": "stream",
     "text": [
      "Saved processed data to: /home/eaguayo/workspace/ml-project/data/long-tr-data/training-session-2021-10-30-6711248689-070d0b6e-35c4-424a-b142-f8044220e924.csv\n",
      "Processing time for training-session-2021-10-30-6711248689-070d0b6e-35c4-424a-b142-f8044220e924.json: 39.43 seconds\n",
      "Processing file: training-session-2024-08-03-7934303148-c2a43cfb-9001-4d62-9500-104dcc504750.json\n"
     ]
    },
    {
     "name": "stderr",
     "output_type": "stream",
     "text": [
      " 87%|████████▋ | 1275/1468 [1:46:39<14:36,  4.54s/it]"
     ]
    },
    {
     "name": "stdout",
     "output_type": "stream",
     "text": [
      "Saved processed data to: /home/eaguayo/workspace/ml-project/data/long-tr-data/training-session-2024-08-03-7934303148-c2a43cfb-9001-4d62-9500-104dcc504750.csv\n",
      "Processing time for training-session-2024-08-03-7934303148-c2a43cfb-9001-4d62-9500-104dcc504750.json: 63.70 seconds\n",
      "Processing file: training-session-2023-10-14-7745762661-47015239-d083-47d5-a4e4-4c6cd8551677.json\n"
     ]
    },
    {
     "name": "stderr",
     "output_type": "stream",
     "text": [
      " 88%|████████▊ | 1291/1468 [1:47:22<08:43,  2.96s/it]"
     ]
    },
    {
     "name": "stdout",
     "output_type": "stream",
     "text": [
      "Saved processed data to: /home/eaguayo/workspace/ml-project/data/long-tr-data/training-session-2023-10-14-7745762661-47015239-d083-47d5-a4e4-4c6cd8551677.csv\n",
      "Processing time for training-session-2023-10-14-7745762661-47015239-d083-47d5-a4e4-4c6cd8551677.json: 42.29 seconds\n",
      "Processing file: training-session-2022-05-22-7424441794-6dedaa7a-4384-4eac-af73-e1fc8113e88b.json\n"
     ]
    },
    {
     "name": "stderr",
     "output_type": "stream",
     "text": [
      " 89%|████████▊ | 1301/1468 [1:48:17<09:48,  3.52s/it]"
     ]
    },
    {
     "name": "stdout",
     "output_type": "stream",
     "text": [
      "Saved processed data to: /home/eaguayo/workspace/ml-project/data/long-tr-data/training-session-2022-05-22-7424441794-6dedaa7a-4384-4eac-af73-e1fc8113e88b.csv\n",
      "Processing time for training-session-2022-05-22-7424441794-6dedaa7a-4384-4eac-af73-e1fc8113e88b.json: 54.81 seconds\n"
     ]
    },
    {
     "name": "stderr",
     "output_type": "stream",
     "text": [
      " 89%|████████▉ | 1313/1468 [1:48:17<04:59,  1.93s/it]"
     ]
    },
    {
     "name": "stdout",
     "output_type": "stream",
     "text": [
      "Processing file: training-session-2022-01-29-7003941509-699c3e2c-07f1-456c-afb1-8496704a25c8.json\n"
     ]
    },
    {
     "name": "stderr",
     "output_type": "stream",
     "text": [
      " 90%|████████▉ | 1319/1468 [1:48:50<06:22,  2.57s/it]"
     ]
    },
    {
     "name": "stdout",
     "output_type": "stream",
     "text": [
      "An unexpected error occurred in file: training-session-2022-01-29-7003941509-699c3e2c-07f1-456c-afb1-8496704a25c8.json with error 'value'\n"
     ]
    },
    {
     "name": "stderr",
     "output_type": "stream",
     "text": [
      " 91%|█████████ | 1332/1468 [1:48:50<02:41,  1.18s/it]"
     ]
    },
    {
     "name": "stdout",
     "output_type": "stream",
     "text": [
      "Processing file: training-session-2023-05-26-7652180155-aaddb208-626b-4fd8-8cab-3d8a25044902.json\n"
     ]
    },
    {
     "name": "stderr",
     "output_type": "stream",
     "text": [
      " 91%|█████████ | 1337/1468 [1:49:34<06:59,  3.21s/it]"
     ]
    },
    {
     "name": "stdout",
     "output_type": "stream",
     "text": [
      "Saved processed data to: /home/eaguayo/workspace/ml-project/data/long-tr-data/training-session-2023-05-26-7652180155-aaddb208-626b-4fd8-8cab-3d8a25044902.csv\n",
      "Processing time for training-session-2023-05-26-7652180155-aaddb208-626b-4fd8-8cab-3d8a25044902.json: 44.27 seconds\n",
      "Processing file: training-session-2024-02-04-7812820942-1eeaeeb1-1344-4a62-b542-080da14d1dcd.json\n"
     ]
    },
    {
     "name": "stderr",
     "output_type": "stream",
     "text": [
      " 91%|█████████ | 1339/1468 [1:50:59<17:21,  8.07s/it]"
     ]
    },
    {
     "name": "stdout",
     "output_type": "stream",
     "text": [
      "Saved processed data to: /home/eaguayo/workspace/ml-project/data/long-tr-data/training-session-2024-02-04-7812820942-1eeaeeb1-1344-4a62-b542-080da14d1dcd.csv\n",
      "Processing time for training-session-2024-02-04-7812820942-1eeaeeb1-1344-4a62-b542-080da14d1dcd.json: 84.04 seconds\n"
     ]
    },
    {
     "name": "stderr",
     "output_type": "stream",
     "text": [
      " 92%|█████████▏| 1355/1468 [1:50:59<04:20,  2.31s/it]"
     ]
    },
    {
     "name": "stdout",
     "output_type": "stream",
     "text": [
      "Processing file: training-session-2024-03-30-7850841059-457162d5-0028-4a94-82a4-fe62f1419934.json\n"
     ]
    },
    {
     "name": "stderr",
     "output_type": "stream",
     "text": [
      " 93%|█████████▎| 1366/1468 [1:51:32<04:09,  2.45s/it]"
     ]
    },
    {
     "name": "stdout",
     "output_type": "stream",
     "text": [
      "Saved processed data to: /home/eaguayo/workspace/ml-project/data/long-tr-data/training-session-2024-03-30-7850841059-457162d5-0028-4a94-82a4-fe62f1419934.csv\n",
      "Processing time for training-session-2024-03-30-7850841059-457162d5-0028-4a94-82a4-fe62f1419934.json: 32.57 seconds\n"
     ]
    },
    {
     "name": "stderr",
     "output_type": "stream",
     "text": [
      " 95%|█████████▍| 1391/1468 [1:51:32<00:49,  1.54it/s]"
     ]
    },
    {
     "name": "stdout",
     "output_type": "stream",
     "text": [
      "Processing file: training-session-2022-01-22-6949409809-eb0e2e45-adc1-4f44-a326-1f68e46e4f56.json\n"
     ]
    },
    {
     "name": "stderr",
     "output_type": "stream",
     "text": [
      " 96%|█████████▌| 1404/1468 [1:51:52<00:59,  1.07it/s]"
     ]
    },
    {
     "name": "stdout",
     "output_type": "stream",
     "text": [
      "An unexpected error occurred in file: training-session-2022-01-22-6949409809-eb0e2e45-adc1-4f44-a326-1f68e46e4f56.json with error 'value'\n"
     ]
    },
    {
     "name": "stderr",
     "output_type": "stream",
     "text": [
      " 98%|█████████▊| 1439/1468 [1:51:52<00:04,  6.41it/s]"
     ]
    },
    {
     "name": "stdout",
     "output_type": "stream",
     "text": [
      "Processing file: training-session-2024-01-28-7807935517-77ed0fa1-95e8-432b-a888-a2a4fbc879f7.json\n"
     ]
    },
    {
     "name": "stderr",
     "output_type": "stream",
     "text": [
      " 98%|█████████▊| 1442/1468 [1:52:26<00:46,  1.78s/it]"
     ]
    },
    {
     "name": "stdout",
     "output_type": "stream",
     "text": [
      "Saved processed data to: /home/eaguayo/workspace/ml-project/data/long-tr-data/training-session-2024-01-28-7807935517-77ed0fa1-95e8-432b-a888-a2a4fbc879f7.csv\n",
      "Processing time for training-session-2024-01-28-7807935517-77ed0fa1-95e8-432b-a888-a2a4fbc879f7.json: 33.57 seconds\n",
      "Processing file: training-session-2023-11-04-7759305385-58e6fd48-87dc-440d-81d2-858d652fa6b5.json\n"
     ]
    },
    {
     "name": "stderr",
     "output_type": "stream",
     "text": [
      " 99%|█████████▉| 1451/1468 [1:54:59<01:59,  7.01s/it]"
     ]
    },
    {
     "name": "stdout",
     "output_type": "stream",
     "text": [
      "Saved processed data to: /home/eaguayo/workspace/ml-project/data/long-tr-data/training-session-2023-11-04-7759305385-58e6fd48-87dc-440d-81d2-858d652fa6b5.csv\n",
      "Processing time for training-session-2023-11-04-7759305385-58e6fd48-87dc-440d-81d2-858d652fa6b5.json: 152.25 seconds\n"
     ]
    },
    {
     "name": "stderr",
     "output_type": "stream",
     "text": [
      " 99%|█████████▉| 1459/1468 [1:54:59<00:38,  4.28s/it]"
     ]
    },
    {
     "name": "stdout",
     "output_type": "stream",
     "text": [
      "Processing file: training-session-2021-07-17-6279405199-89cf7709-d73c-4fd0-94e3-57a44fbdd03f.json\n"
     ]
    },
    {
     "name": "stderr",
     "output_type": "stream",
     "text": [
      "100%|██████████| 1468/1468 [1:55:58<00:00,  4.74s/it]"
     ]
    },
    {
     "name": "stdout",
     "output_type": "stream",
     "text": [
      "Saved processed data to: /home/eaguayo/workspace/ml-project/data/long-tr-data/training-session-2021-07-17-6279405199-89cf7709-d73c-4fd0-94e3-57a44fbdd03f.csv\n",
      "Processing time for training-session-2021-07-17-6279405199-89cf7709-d73c-4fd0-94e3-57a44fbdd03f.json: 58.78 seconds\n",
      "Processed 129 files.\n"
     ]
    },
    {
     "name": "stderr",
     "output_type": "stream",
     "text": [
      "\n"
     ]
    }
   ],
   "source": [
    "import pandas as pd\n",
    "import os\n",
    "import json\n",
    "import isodate\n",
    "from concurrent.futures import ThreadPoolExecutor, as_completed\n",
    "from tqdm import tqdm\n",
    "import time\n",
    "\n",
    "# Create the output directory if it doesn't exist\n",
    "# output_dir = \"./data/long-tr-data\"\n",
    "output_dir = \"/home/eaguayo/workspace/ml-project/data/long-tr-data\"\n",
    "os.makedirs(output_dir, exist_ok=True)\n",
    "\n",
    "# Iterate through all files in the ./full-data folder\n",
    "# input_dir = \"./data/full-data\"\n",
    "input_dir = \"/home/eaguayo/workspace/ml-project/data/full-data\"\n",
    "count = 0\n",
    "\n",
    "\n",
    "def process_file(file_name):\n",
    "    file_path = f\"{input_dir}/{file_name}\"\n",
    "    try:\n",
    "        with open(file_path, \"r\") as f:\n",
    "            data = json.load(f)\n",
    "\n",
    "        exercise = data.get(\"exercises\", [])[0]\n",
    "\n",
    "        # 1. check if the sport corresponds to trail running and if the duration is greater than 3 hours\n",
    "        sport = exercise.get(\"sport\")\n",
    "        duration_iso = exercise.get(\"duration\")\n",
    "        duration = isodate.parse_duration(duration_iso).total_seconds()\n",
    "\n",
    "        if sport != \"TRAIL_RUNNING\" or duration < 3 * 3600:\n",
    "            return False\n",
    "\n",
    "        # --- 2. Extract available data ---\n",
    "        print(f\"Processing file: {file_name}\")\n",
    "        start_time = time.time()\n",
    "\n",
    "        sample_features = [\n",
    "            \"heartRate\",\n",
    "            \"altitude\",\n",
    "            \"distance\",\n",
    "            \"temperature\",\n",
    "            \"cadence\",\n",
    "            \"speed\",\n",
    "        ]\n",
    "        samples = exercise.get(\"samples\", {})\n",
    "\n",
    "        # Initialize main dataframe with heart rate samples\n",
    "        df = pd.DataFrame(\n",
    "            [\n",
    "                {\n",
    "                    \"timestamp\": pd.to_datetime(sample[\"dateTime\"]),\n",
    "                    \"heartRate\": sample[\"value\"],\n",
    "                }\n",
    "                for sample in samples.get(\"heartRate\", [])\n",
    "            ]\n",
    "        )\n",
    "\n",
    "        # Process and merge other sample types\n",
    "        for sample_feature in sample_features[1:]:  # Skip heartRate (already in df)\n",
    "            sample_data = samples.get(sample_feature, [])\n",
    "            if not sample_data:\n",
    "                continue\n",
    "            temp_df = pd.DataFrame(\n",
    "                [\n",
    "                    {\n",
    "                        \"timestamp\": pd.to_datetime(sample[\"dateTime\"]),\n",
    "                        sample_feature: sample[\"value\"],\n",
    "                    }\n",
    "                    for sample in sample_data\n",
    "                ]\n",
    "            )\n",
    "            df = pd.merge(df, temp_df, on=\"timestamp\", how=\"left\")\n",
    "\n",
    "        # Save the dataframe to a CSV file\n",
    "        output_file_name = f\"{output_dir}/{file_name.replace('.json', '.csv')}\"\n",
    "        df.to_csv(output_file_name, index=False)\n",
    "        end_time = time.time()\n",
    "        print(f\"Saved processed data to: {output_file_name}\")\n",
    "        print(f\"Processing time for {file_name}: {end_time - start_time:.2f} seconds\")\n",
    "        return True\n",
    "    except FileNotFoundError:\n",
    "        print(f\"Error: File not found at path: {file_name}\")\n",
    "    except json.JSONDecodeError:\n",
    "        print(f\"Error: Invalid JSON format in file: {file_name}\")\n",
    "    except Exception as e:\n",
    "        print(f\"An unexpected error occurred in file: {file_name} with error {e}\")\n",
    "    return False\n",
    "\n",
    "\n",
    "# Get the list of files\n",
    "files = os.listdir(input_dir)\n",
    "\n",
    "# Process files sequentially\n",
    "for file_name in tqdm(files):\n",
    "    if process_file(file_name):\n",
    "        count += 1\n",
    "\n",
    "# Process files in parallel with a progress bar\n",
    "# TODO: Does not seem to work well from vscode ipynb with local kernel \n",
    "#   or remote jupyter server runtime. Maybe split to a separate .py script file.\n",
    "# with ThreadPoolExecutor(max_workers=8) as executor:\n",
    "#     futures = {executor.submit(process_file, file_name): file_name for file_name in files}\n",
    "#     for future in tqdm(as_completed(futures), total=len(futures)):\n",
    "#         if future.result():\n",
    "#             count += 1\n",
    "\n",
    "print(f\"Processed {count} files.\")"
   ]
  },
  {
   "cell_type": "markdown",
   "id": "bf2492fe",
   "metadata": {},
   "source": []
  }
 ],
 "metadata": {
  "kernelspec": {
   "display_name": "Python 3",
   "language": "python",
   "name": "python3"
  },
  "language_info": {
   "codemirror_mode": {
    "name": "ipython",
    "version": 3
   },
   "file_extension": ".py",
   "mimetype": "text/x-python",
   "name": "python",
   "nbconvert_exporter": "python",
   "pygments_lexer": "ipython3",
   "version": "3.10.12"
  }
 },
 "nbformat": 4,
 "nbformat_minor": 5
}
